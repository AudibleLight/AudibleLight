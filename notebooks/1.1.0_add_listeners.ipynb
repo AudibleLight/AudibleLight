{
 "cells": [
  {
   "metadata": {},
   "cell_type": "markdown",
   "source": [
    "# 1.1.0: Add microphones and listeners\n",
    "\n",
    "## `MicArray` objects\n",
    "\n",
    "`MicArray` objects are used in `AudibleLight` to represent various microphone array geometries, which may contain anywhere from between 1 to 64 individual microphone capsules arranged in a variety of different layouts. `MicArray` objects are `dataclasses`, defined in the Python standard library, and come packaged with numerous validation steps to ensure that they will work when added to a `Scene`."
   ],
   "id": "5146cede1b3da325"
  },
  {
   "metadata": {},
   "cell_type": "markdown",
   "source": "## Import dependencies",
   "id": "207ca96b94a82c2d"
  },
  {
   "cell_type": "code",
   "id": "initial_id",
   "metadata": {
    "collapsed": true,
    "ExecuteTime": {
     "end_time": "2025-10-20T08:20:15.012502Z",
     "start_time": "2025-10-20T08:20:10.659429Z"
    }
   },
   "source": [
    "from dataclasses import dataclass\n",
    "\n",
    "import plotly.graph_objects as go\n",
    "import numpy as np\n",
    "import pandas as pd\n",
    "from plotly.subplots import make_subplots\n",
    "\n",
    "from audiblelight import utils\n",
    "from audiblelight.core import Scene\n",
    "from audiblelight.micarrays import *"
   ],
   "outputs": [],
   "execution_count": 2
  },
  {
   "metadata": {},
   "cell_type": "markdown",
   "source": [
    "## Adding a single `MicArray`\n",
    "\n",
    "To start, we'll add a simple tetra microphone (Sennheiser AmbeoVR) to a `Scene`."
   ],
   "id": "9ca338418fe2cc94"
  },
  {
   "metadata": {
    "ExecuteTime": {
     "end_time": "2025-10-20T08:18:59.877016Z",
     "start_time": "2025-10-20T08:18:59.461344Z"
    }
   },
   "cell_type": "code",
   "source": [
    "scene = Scene(\n",
    "    duration=60,\n",
    "    sample_rate=44100,\n",
    "    backend=\"rlr\",\n",
    "    state_kwargs=dict(\n",
    "        mesh=utils.get_project_root() / \"tests/test_resources/meshes/Oyens.glb\"\n",
    "    ),\n",
    "    fg_path=utils.get_project_root() / \"tests/test_resources/soundevents\",\n",
    ")"
   ],
   "id": "f51ce75ae9fdb190",
   "outputs": [
    {
     "name": "stdout",
     "output_type": "stream",
     "text": [
      "CreateContext: Context created\n"
     ]
    }
   ],
   "execution_count": 2
  },
  {
   "metadata": {},
   "cell_type": "markdown",
   "source": [
    "Microphones can be added with `Scene.add_microphone`. Here, we can specify the type of microphone, as well as its exact position within the mesh. Important also is the `alias` of the microphone, which provides a human-readable pointer to the microphone within the `Scene`.\n",
    "\n",
    "Refer to the documentation for an overview of every parameter."
   ],
   "id": "6841968a23e0ed7f"
  },
  {
   "metadata": {
    "ExecuteTime": {
     "end_time": "2025-10-20T08:19:02.367106Z",
     "start_time": "2025-10-20T08:18:59.999334Z"
    }
   },
   "cell_type": "code",
   "source": [
    "scene.add_microphone(\n",
    "    microphone_type=\"ambeovr\",    # or eigenmike32, eigenmike64, ...\n",
    "    position=[-0.5, -0.5, 0.5],\n",
    "    alias=\"my_first_mic\"\n",
    ")"
   ],
   "id": "9323046cd858fb1e",
   "outputs": [
    {
     "name": "stderr",
     "output_type": "stream",
     "text": [
      "Warning: initializing context twice. Will destroy old context and create a new one.\n"
     ]
    },
    {
     "name": "stdout",
     "output_type": "stream",
     "text": [
      "CreateContext: Context created\n"
     ]
    }
   ],
   "execution_count": 3
  },
  {
   "metadata": {},
   "cell_type": "markdown",
   "source": "In the above example, we provided coordinates for the center of the microphone in Cartesian format, with units given in meters. Now, we can print the coordinates of each capsule, to check this looks realistic.",
   "id": "b0df47a7fcf186c9"
  },
  {
   "metadata": {
    "ExecuteTime": {
     "end_time": "2025-10-20T08:19:02.699610Z",
     "start_time": "2025-10-20T08:19:02.695928Z"
    }
   },
   "cell_type": "code",
   "source": [
    "placed = scene.get_microphone(\"my_first_mic\")\n",
    "print(placed.coordinates_absolute)"
   ],
   "id": "331d281448646be9",
   "outputs": [
    {
     "name": "stdout",
     "output_type": "stream",
     "text": [
      "[[-0.49420772 -0.49420772  0.50573576]\n",
      " [-0.49420772 -0.50579228  0.49426424]\n",
      " [-0.50579228 -0.49420772  0.49426424]\n",
      " [-0.50579228 -0.50579228  0.50573576]]\n"
     ]
    }
   ],
   "execution_count": 4
  },
  {
   "metadata": {},
   "cell_type": "markdown",
   "source": [
    "## Adding multiple `MicArray`s\n",
    "\n",
    "`AudibleLight` allows multiple microphones to be added to a `Scene`, with audio and metadata generated for each separately."
   ],
   "id": "a40565fb8cd6821e"
  },
  {
   "metadata": {
    "ExecuteTime": {
     "end_time": "2025-10-20T08:19:05.294826Z",
     "start_time": "2025-10-20T08:19:02.781288Z"
    }
   },
   "cell_type": "code",
   "source": [
    "scene.clear_microphones()\n",
    "scene.add_microphone(\n",
    "    microphone_type=\"ambeovr\",\n",
    "    position=[-0.5, -0.5, 0.5],\n",
    "    alias=\"my_first_mic\"\n",
    ")\n",
    "scene.add_microphone(\n",
    "    microphone_type=\"eigenmike32\",\n",
    "    alias=\"my_second_mic\"\n",
    ")\n",
    "print(len(scene.state.microphones))"
   ],
   "id": "389ec14caec98207",
   "outputs": [
    {
     "name": "stdout",
     "output_type": "stream",
     "text": [
      "CreateContext: Context created\n"
     ]
    },
    {
     "name": "stderr",
     "output_type": "stream",
     "text": [
      "Warning: initializing context twice. Will destroy old context and create a new one.\n",
      "Warning: initializing context twice. Will destroy old context and create a new one.\n"
     ]
    },
    {
     "name": "stdout",
     "output_type": "stream",
     "text": [
      "CreateContext: Context created\n",
      "CreateContext: Context created\n",
      "2\n"
     ]
    },
    {
     "name": "stderr",
     "output_type": "stream",
     "text": [
      "Warning: initializing context twice. Will destroy old context and create a new one.\n"
     ]
    }
   ],
   "execution_count": 5
  },
  {
   "metadata": {},
   "cell_type": "markdown",
   "source": "Now, we can add an `Event` and generate IRs for both microphones. IRs are provided in the shape `(n_capsules, n_emitters, n_samples)`.",
   "id": "3533edec00173603"
  },
  {
   "metadata": {
    "ExecuteTime": {
     "end_time": "2025-10-20T08:20:02.357729Z",
     "start_time": "2025-10-20T08:19:05.389992Z"
    }
   },
   "cell_type": "code",
   "source": [
    "scene.clear_events()\n",
    "scene.add_event(event_type=\"static\")\n",
    "scene.state.simulate()"
   ],
   "id": "828289d57e3669e",
   "outputs": [
    {
     "name": "stdout",
     "output_type": "stream",
     "text": [
      "CreateContext: Context created\n"
     ]
    },
    {
     "name": "stderr",
     "output_type": "stream",
     "text": [
      "Warning: initializing context twice. Will destroy old context and create a new one.\n",
      "Warning: initializing context twice. Will destroy old context and create a new one.\n"
     ]
    },
    {
     "name": "stdout",
     "output_type": "stream",
     "text": [
      "CreateContext: Context created\n"
     ]
    },
    {
     "name": "stderr",
     "output_type": "stream",
     "text": [
      "\u001B[32m2025-10-20 09:19:10.766\u001B[0m | \u001B[1mINFO    \u001B[0m | \u001B[36maudiblelight.core\u001B[0m:\u001B[36madd_event\u001B[0m:\u001B[36m839\u001B[0m - \u001B[1mEvent added successfully: Static 'Event' with alias 'event000', audio file '/home/huw-cheston/Documents/python_projects/AudibleLight/tests/test_resources/soundevents/music/007527.mp3' (unloaded, 0 augmentations), 1 emitter(s).\u001B[0m\n",
      "Warning: initializing context twice. Will destroy old context and create a new one.\n"
     ]
    },
    {
     "name": "stdout",
     "output_type": "stream",
     "text": [
      "CreateContext: Context created\n"
     ]
    },
    {
     "name": "stderr",
     "output_type": "stream",
     "text": [
      "\u001B[32m2025-10-20 09:19:10.998\u001B[0m | \u001B[1mINFO    \u001B[0m | \u001B[36maudiblelight.worldstate\u001B[0m:\u001B[36msimulate\u001B[0m:\u001B[36m1743\u001B[0m - \u001B[1mStarting simulation with 1 emitters, 2 microphones\u001B[0m\n",
      "Exception ignored in: <function BaseContext._insert_global.<locals>.on_disposal at 0x7b99dab97880>\n",
      "Traceback (most recent call last):\n",
      "  File \"/home/huw-cheston/.cache/pypoetry/virtualenvs/audiblelight-5f5KpqNP-py3.10/lib/python3.10/site-packages/numba/core/typing/context.py\", line 497, in on_disposal\n",
      "    def on_disposal(wr, pop=self._globals.pop):\n",
      "KeyboardInterrupt: \n",
      "\n",
      "KeyboardInterrupt\n",
      "\n"
     ]
    }
   ],
   "execution_count": 6
  },
  {
   "metadata": {
    "ExecuteTime": {
     "end_time": "2025-10-20T08:20:02.392455863Z",
     "start_time": "2025-10-07T15:11:05.912217Z"
    }
   },
   "cell_type": "code",
   "source": [
    "ambeo = scene.get_microphone(\"my_first_mic\")\n",
    "print(ambeo.irs.shape)"
   ],
   "id": "7563135784e8945d",
   "outputs": [
    {
     "name": "stdout",
     "output_type": "stream",
     "text": [
      "(4, 1, 72471)\n"
     ]
    }
   ],
   "execution_count": 7
  },
  {
   "metadata": {
    "ExecuteTime": {
     "end_time": "2025-10-20T08:20:02.393790928Z",
     "start_time": "2025-10-07T15:11:05.931622Z"
    }
   },
   "cell_type": "code",
   "source": [
    "eigen = scene.get_microphone(\"my_second_mic\")\n",
    "print(eigen.irs.shape)"
   ],
   "id": "d8d0caacd6ecb333",
   "outputs": [
    {
     "name": "stdout",
     "output_type": "stream",
     "text": [
      "(32, 1, 72471)\n"
     ]
    }
   ],
   "execution_count": 8
  },
  {
   "metadata": {},
   "cell_type": "markdown",
   "source": [
    "## Creating custom `MicArray`s\n",
    "\n",
    "`AudibleLight` also defines a consistent API allowing new `MicArrays` to be defined easily within code. We can then add these to a `Scene`, generate impulse responses, and use these to convolve with existing audio files.\n",
    "\n",
    "We can create a custom microphone array by superclassing `audiblelight.micarrays.MicArray`. We'll generate a custom microphone array that has a cuboid shape, containing eight capsules for the vertices of the cube."
   ],
   "id": "efaa19f9d20f2a6d"
  },
  {
   "metadata": {
    "ExecuteTime": {
     "end_time": "2025-10-20T08:20:02.419514033Z",
     "start_time": "2025-10-07T15:11:05.937036Z"
    }
   },
   "cell_type": "code",
   "source": [
    "@dataclass(eq=False)\n",
    "class CubeMic(MicArray):\n",
    "    name: str = \"cube\"\n",
    "    is_spherical = False\n",
    "    # layout can be either FOA or MIC\n",
    "    channel_layout_type = \"mic\"\n",
    "\n",
    "    @property\n",
    "    def coordinates_polar(self) -> np.ndarray:\n",
    "        \"\"\"\n",
    "        This property defines the polar coordinates of every capsule WRT the center.\n",
    "\n",
    "        Azimuth is in range [-180, 180], increasing counter-clockwise\n",
    "        Elevation is in range [-90, 90], where +0 == straight ahead\n",
    "        Radius is given in metres and is unbounded.\n",
    "\n",
    "        If you want, this information could also be provided in Cartesian format:\n",
    "        just use `coordinates_cartesian` instead.\n",
    "        \"\"\"\n",
    "        # Azimuth, elevation, radius\n",
    "        return np.array(\n",
    "            [\n",
    "                [45, 90, 0.05],\n",
    "                [135, 90, 0.05],\n",
    "                [-135, 90, 0.05],\n",
    "                [-45, 90, 0.05],\n",
    "                [45, -90, 0.05],\n",
    "                [135, -90, 0.05],\n",
    "                [-135, -90, 0.05],\n",
    "                [-45, -90, 0.05],\n",
    "            ]\n",
    "        )\n",
    "\n",
    "    @property\n",
    "    def coordinates_cartesian(self) -> np.ndarray:\n",
    "        # Defined automatically, just included here for reference\n",
    "        return utils.polar_to_cartesian(self.coordinates_polar)\n",
    "\n",
    "    @property\n",
    "    def capsule_names(self) -> list[str]:\n",
    "        # Front-left upper, back-left upper, back-right upper, front-right upper\n",
    "        # Front-left lower, back-left lower, back-right lower, front-right lower\n",
    "        return [\"FLU\", \"BLU\", \"BRU\", \"FRU\", \"FLL\", \"BLL\", \"BRL\", \"FRL\"]"
   ],
   "id": "d0e1d4d1e0e2a78e",
   "outputs": [],
   "execution_count": 9
  },
  {
   "metadata": {
    "ExecuteTime": {
     "end_time": "2025-10-20T08:20:02.422050757Z",
     "start_time": "2025-10-07T15:11:06.016580Z"
    }
   },
   "cell_type": "code",
   "source": [
    "# Now, we add the cube mic to the scene in a random valid position\n",
    "scene.clear_microphones()\n",
    "scene.clear_events()\n",
    "scene.add_microphone(microphone_type=CubeMic, alias=\"cuboid\")\n",
    "cube_mic_placed = scene.get_microphone(\"cuboid\")"
   ],
   "id": "b9a02ef647252c31",
   "outputs": [
    {
     "name": "stdout",
     "output_type": "stream",
     "text": [
      "CreateContext: Context created\n",
      "CreateContext: Context created\n"
     ]
    },
    {
     "name": "stderr",
     "output_type": "stream",
     "text": [
      "Warning: initializing context twice. Will destroy old context and create a new one.\n",
      "Warning: initializing context twice. Will destroy old context and create a new one.\n"
     ]
    },
    {
     "name": "stdout",
     "output_type": "stream",
     "text": [
      "CreateContext: Context created\n"
     ]
    },
    {
     "name": "stderr",
     "output_type": "stream",
     "text": [
      "Warning: initializing context twice. Will destroy old context and create a new one.\n"
     ]
    }
   ],
   "execution_count": 10
  },
  {
   "metadata": {},
   "cell_type": "markdown",
   "source": "Now, we can add an event and simulate IRs for our custom microphone type",
   "id": "e5c6eb232b248bed"
  },
  {
   "metadata": {
    "ExecuteTime": {
     "end_time": "2025-10-20T08:20:02.423598212Z",
     "start_time": "2025-10-07T15:11:07.012423Z"
    }
   },
   "cell_type": "code",
   "source": [
    "scene.add_event(event_type=\"static\", duration=5)\n",
    "scene.state.simulate()"
   ],
   "id": "3db7ccaabbbf8e67",
   "outputs": [
    {
     "name": "stderr",
     "output_type": "stream",
     "text": [
      "Warning: initializing context twice. Will destroy old context and create a new one.\n",
      "\u001B[32m2025-10-07 16:11:07.443\u001B[0m | \u001B[1mINFO    \u001B[0m | \u001B[36maudiblelight.core\u001B[0m:\u001B[36madd_event\u001B[0m:\u001B[36m830\u001B[0m - \u001B[1mEvent added successfully: Static 'Event' with alias 'event000', audio file '/home/huw-cheston/Documents/python_projects/AudibleLight/tests/test_resources/soundevents/waterTap/95709.wav' (unloaded, 0 augmentations), 1 emitter(s).\u001B[0m\n",
      "Warning: initializing context twice. Will destroy old context and create a new one.\n"
     ]
    },
    {
     "name": "stdout",
     "output_type": "stream",
     "text": [
      "CreateContext: Context created\n",
      "CreateContext: Context created\n"
     ]
    },
    {
     "name": "stderr",
     "output_type": "stream",
     "text": [
      "\u001B[32m2025-10-07 16:11:07.670\u001B[0m | \u001B[1mINFO    \u001B[0m | \u001B[36maudiblelight.worldstate\u001B[0m:\u001B[36msimulate\u001B[0m:\u001B[36m1685\u001B[0m - \u001B[1mStarting simulation with 1 emitters, 1 microphones\u001B[0m\n",
      "\u001B[32m2025-10-07 16:11:18.756\u001B[0m | \u001B[1mINFO    \u001B[0m | \u001B[36maudiblelight.worldstate\u001B[0m:\u001B[36msimulate\u001B[0m:\u001B[36m1693\u001B[0m - \u001B[1mFinished simulation! Overall indirect ray efficiency: 0.991\u001B[0m\n"
     ]
    }
   ],
   "execution_count": 11
  },
  {
   "metadata": {
    "ExecuteTime": {
     "end_time": "2025-10-20T08:20:02.424427128Z",
     "start_time": "2025-10-07T15:11:18.858589Z"
    }
   },
   "cell_type": "code",
   "source": [
    "# Access the IRs:\n",
    "#  These have the shape (n_capsules, n_emitters, n_samples)\n",
    "irs = cube_mic_placed.irs\n",
    "print(irs.shape)"
   ],
   "id": "5c1ce5616dbfc48f",
   "outputs": [
    {
     "name": "stdout",
     "output_type": "stream",
     "text": [
      "(8, 1, 72928)\n"
     ]
    }
   ],
   "execution_count": 12
  },
  {
   "metadata": {},
   "cell_type": "markdown",
   "source": [
    "## Visualise arrays\n",
    "\n",
    "In this final cell, we'll visualise the capsule layouts of two microphones (AmbeoVR/Eigenmike32) using `plotly`."
   ],
   "id": "f19f25a67b721d7d"
  },
  {
   "metadata": {
    "ExecuteTime": {
     "end_time": "2025-10-20T08:22:44.869384Z",
     "start_time": "2025-10-20T08:22:44.807391Z"
    }
   },
   "cell_type": "code",
   "source": [
    "arrays = [\n",
    "    AmbeoVR(),\n",
    "    Eigenmike32(),\n",
    "    Eigenmike64()\n",
    "]\n",
    "fig = make_subplots(\n",
    "    rows=1, \n",
    "    cols=len(arrays),\n",
    "    specs=[\n",
    "        [{\"type\": \"scene\"} for _ in range(len(arrays))],\n",
    "    ],\n",
    "    subplot_titles=[a.name for a in arrays]\n",
    ")\n",
    "fig.update_layout(\n",
    "    width=360 * len(arrays),\n",
    "    height=500,\n",
    "    autosize=False,\n",
    "    margin=dict(\n",
    "        l=10,\n",
    "        r=10,\n",
    "        b=10,\n",
    "        t=10,\n",
    "    ),\n",
    ")\n",
    "for (mic_x, mic_y), mic_array in zip([(1, i + 1) for i in range(len(arrays))], arrays):\n",
    "    df = pd.DataFrame(mic_array.coordinates_cartesian, columns=[\"x\", \"y\", \"z\"])\n",
    "    fig.add_trace(\n",
    "        go.Scatter3d(\n",
    "            x=df[\"x\"],\n",
    "            y=df[\"y\"],\n",
    "            z=df[\"z\"],\n",
    "            mode=\"markers\",\n",
    "            name=mic_array.name,\n",
    "            marker_size=5,\n",
    "            hovertext=mic_array.capsule_names\n",
    "        ),\n",
    "        row=mic_x,\n",
    "        col=mic_y\n",
    "    )\n",
    "fig.show()"
   ],
   "id": "f861abacdca43fda",
   "outputs": [
    {
     "data": {
      "application/vnd.plotly.v1+json": {
       "data": [
        {
         "hovertext": [
          "FLU",
          "FRD",
          "BLD",
          "BRU"
         ],
         "marker": {
          "size": 5
         },
         "mode": "markers",
         "name": "ambeovr",
         "x": [
          0.005792279653395693,
          0.005792279653395693,
          -0.005792279653395692,
          -0.005792279653395692
         ],
         "y": [
          0.005792279653395692,
          -0.005792279653395692,
          0.005792279653395693,
          -0.005792279653395693
         ],
         "z": [
          0.00573576436351046,
          -0.00573576436351046,
          -0.00573576436351046,
          0.00573576436351046
         ],
         "type": "scatter3d",
         "scene": "scene"
        },
        {
         "hovertext": [
          "1",
          "2",
          "3",
          "4",
          "5",
          "6",
          "7",
          "8",
          "9",
          "10",
          "11",
          "12",
          "13",
          "14",
          "15",
          "16",
          "17",
          "18",
          "19",
          "20",
          "21",
          "22",
          "23",
          "24",
          "25",
          "26",
          "27",
          "28",
          "29",
          "30",
          "31",
          "32"
         ],
         "marker": {
          "size": 5
         },
         "mode": "markers",
         "name": "eigenmike32",
         "x": [
          0.039210377912882476,
          0.03561802003856989,
          0.039210377912882476,
          0.03561802003856989,
          0.022256609097794606,
          0.02432757454426191,
          0.015051453880902618,
          0.02432757454426191,
          0.022256609097794606,
          0.02432757454426191,
          0.015051453880902618,
          0.02432757454426191,
          -2.626840906015402E-4,
          2.180974711610045E-18,
          2.2044271013910995E-18,
          2.6268409060154206E-4,
          -0.039210377912882476,
          -0.03561802003856989,
          -0.039210377912882476,
          -0.03561802003856989,
          -0.022256609097794606,
          -0.024327574544261907,
          -0.015051453880902612,
          -0.024327574544261907,
          -0.022256609097794606,
          -0.024327574544261907,
          -0.015051453880902612,
          -0.024327574544261907,
          -2.626840906015402E-4,
          2.180974711610045E-18,
          2.180974711610045E-18,
          2.6268409060154206E-4
         ],
         "y": [
          0.0,
          0.022256609097794606,
          0.0,
          -0.022256609097794606,
          0.0,
          0.024327574544261907,
          0.039210377912882476,
          0.024327574544261907,
          0.0,
          -0.024327574544261907,
          -0.039210377912882476,
          -0.024327574544261907,
          0.015049161471573202,
          0.03561802003856989,
          0.036001026629488724,
          0.015049161471573202,
          4.80188638043696E-18,
          -0.022256609097794606,
          4.80188638043696E-18,
          0.022256609097794606,
          2.7256485091488026E-18,
          -0.02432757454426191,
          -0.039210377912882476,
          -0.02432757454426191,
          2.7256485091488026E-18,
          0.02432757454426191,
          0.039210377912882476,
          0.02432757454426191,
          -0.015049161471573202,
          -0.03561802003856989,
          -0.03561802003856989,
          -0.015049161471573202
         ],
         "z": [
          0.015051453880902612,
          0.0,
          -0.015051453880902612,
          0.0,
          0.03561802003856989,
          0.024090210326743935,
          0.0,
          -0.024090210326743935,
          -0.03561802003856989,
          -0.024090210326743935,
          0.0,
          0.024090210326743935,
          0.039210377912882476,
          0.022256609097794606,
          -0.021631599146222275,
          -0.039210377912882476,
          0.015051453880902612,
          0.0,
          -0.015051453880902612,
          0.0,
          0.03561802003856989,
          0.024090210326743935,
          0.0,
          -0.024090210326743935,
          -0.03561802003856989,
          -0.024090210326743935,
          0.0,
          0.024090210326743935,
          0.039210377912882476,
          0.022256609097794606,
          -0.022256609097794606,
          -0.039210377912882476
         ],
         "type": "scatter3d",
         "scene": "scene2"
        },
        {
         "hovertext": [
          "1",
          "2",
          "3",
          "4",
          "5",
          "6",
          "7",
          "8",
          "9",
          "10",
          "11",
          "12",
          "13",
          "14",
          "15",
          "16",
          "17",
          "18",
          "19",
          "20",
          "21",
          "22",
          "23",
          "24",
          "25",
          "26",
          "27",
          "28",
          "29",
          "30",
          "31",
          "32",
          "33",
          "34",
          "35",
          "36",
          "37",
          "38",
          "39",
          "40",
          "41",
          "42",
          "43",
          "44",
          "45",
          "46",
          "47",
          "48",
          "49",
          "50",
          "51",
          "52",
          "53",
          "54",
          "55",
          "56",
          "57",
          "58",
          "59",
          "60",
          "61",
          "62",
          "63",
          "64"
         ],
         "marker": {
          "size": 5
         },
         "mode": "markers",
         "name": "eigenmike64",
         "x": [
          -0.011557527067822936,
          -0.006821932429790403,
          0.003984581507060935,
          0.0066248589871260545,
          0.011805912455275595,
          0.022897093628364926,
          0.02351901868519203,
          0.02793034587173202,
          -0.02652891238065585,
          -0.03537721237112923,
          -0.008872225630222908,
          -0.021479053430168503,
          -0.003329128790366356,
          -0.00651557021701343,
          -0.010629111728296291,
          -0.01614562503182608,
          -0.024451261284446815,
          -0.03155002901322742,
          -0.025073017776199788,
          -0.03767278438570731,
          0.03682373876081454,
          0.03759431555859713,
          0.02783976692035055,
          0.022619911918706145,
          0.0123804259333581,
          0.008375485645416562,
          0.010643932361124049,
          0.013754284876052823,
          0.027326581792417665,
          0.0374087428810979,
          0.03706840650542324,
          0.04199972853865108,
          -0.028211913100208274,
          -0.022826426128443936,
          -0.009183419331136623,
          -0.012302439061488285,
          -0.0061300520163437636,
          0.010113570358791027,
          0.011839869057649983,
          0.006130052016343764,
          -0.02588789306426653,
          -0.024678148116354635,
          -0.03668000283105736,
          -0.036335564788914164,
          -0.04193574829409128,
          -0.03752033405115156,
          -0.03854693700528375,
          -0.02413710636047128,
          -0.029473768708001186,
          -0.005441502966432096,
          -0.014347566909061695,
          0.00444339033670756,
          0.023110887349598586,
          0.026510175740801754,
          0.00530024182781983,
          0.00940715476147122,
          -0.011681888533285877,
          -0.007155234377427717,
          0.014709148582451797,
          0.024684231764414134,
          0.030475332877412584,
          0.0272254487258666,
          0.03760835652196764,
          0.03633042042696787
         ],
         "y": [
          -0.0036343187561832875,
          0.014153428918466271,
          0.028035713132410732,
          -0.007015641412857329,
          0.011078349645476958,
          0.024325010428297104,
          -0.010473309246257953,
          0.00724408555619346,
          -0.012064767837456712,
          -0.017670818609673636,
          -0.02123263454125875,
          -0.029365682626888972,
          -0.03485486296840772,
          0.03825029269584355,
          0.04056190832437057,
          0.026952814183318338,
          0.03302830791559033,
          0.019533651466709687,
          0.007839149121863332,
          9.53599071374472E-4,
          0.014335508698807786,
          0.018160043012023765,
          0.030768751844692743,
          0.03341826412098728,
          0.036849378344446716,
          0.04113742570596265,
          -0.024809038107366208,
          -0.0366548283932346,
          -0.024488624526675266,
          -0.018242230226633745,
          -0.0051944515246299516,
          0.0,
          0.00294876414900686,
          -0.014665559551673467,
          -0.028126626340585,
          0.006918778416413281,
          -0.010980583956362323,
          -0.023754577679931846,
          -0.006560245467532904,
          0.010980583956362321,
          -0.027676990205213314,
          -0.0338744667475215,
          -0.00889958164305791,
          -0.020700232747335224,
          -0.0023218126646845512,
          0.010964605361977981,
          0.01640032909106145,
          0.02066462942769861,
          0.02848934142870576,
          0.02490060426476308,
          0.03455107157115389,
          0.03696702089782962,
          -0.02989336679947112,
          -0.032575434668302476,
          -0.03654614819264083,
          -0.040831389335074846,
          -0.038563324039028034,
          -0.04086708146527558,
          0.02521107008985877,
          0.006257073788253079,
          0.019407451405937286,
          -0.01323465099096898,
          0.0013685195824596024,
          -0.016888688809730264
         ],
         "z": [
          0.040214615443330985,
          0.03895050304904029,
          0.031018089873020235,
          0.040876546074330895,
          0.03875423332012813,
          0.025456177463184213,
          0.033183814631802595,
          0.03051915798215887,
          0.03024331636788127,
          0.014149028748010687,
          0.035134866483363246,
          0.020983492264177537,
          0.023196021834587792,
          0.016076767505610875,
          -0.0023986614919057187,
          0.02787229089851039,
          0.008675638180137855,
          0.01967313217669264,
          0.032770284109838885,
          0.0185432458172533,
          0.014230441104255746,
          -0.0045694940072254124,
          0.006498560435994426,
          -0.011642989647419192,
          0.015901206537129682,
          -0.0012503785386134786,
          0.03217480896725057,
          0.015206682840478644,
          0.02043441206234782,
          0.005639768826325935,
          0.01905127062709902,
          1.510055615469985E-4,
          -0.030974065752171265,
          -0.03206049957874972,
          -0.029808684977462804,
          -0.039557306510465816,
          -0.040073048776630385,
          -0.033127567581183306,
          -0.03975903268571076,
          -0.040073048776630385,
          -0.018105281159750804,
          0.002740348174652786,
          -0.01842212905426979,
          -0.003902191137908541,
          -4.691444053764699E-5,
          -0.015362355351510428,
          0.0030270205178640278,
          -0.02746585493224615,
          -0.009146277007934958,
          -0.033381880604842706,
          -0.019088498554758034,
          -0.019434393436767772,
          -0.018337761785628102,
          2.2724075990828037E-4,
          -0.020007160939227848,
          -0.0028815072898165277,
          -0.011849199101914308,
          0.006533320251955007,
          -0.03020004789571674,
          -0.03339966661224397,
          -0.021415062828230937,
          -0.029113896249427916,
          -0.018647752515222812,
          -0.012604473090448796
         ],
         "type": "scatter3d",
         "scene": "scene3"
        }
       ],
       "layout": {
        "template": {
         "data": {
          "histogram2dcontour": [
           {
            "type": "histogram2dcontour",
            "colorbar": {
             "outlinewidth": 0,
             "ticks": ""
            },
            "colorscale": [
             [
              0.0,
              "#0d0887"
             ],
             [
              0.1111111111111111,
              "#46039f"
             ],
             [
              0.2222222222222222,
              "#7201a8"
             ],
             [
              0.3333333333333333,
              "#9c179e"
             ],
             [
              0.4444444444444444,
              "#bd3786"
             ],
             [
              0.5555555555555556,
              "#d8576b"
             ],
             [
              0.6666666666666666,
              "#ed7953"
             ],
             [
              0.7777777777777778,
              "#fb9f3a"
             ],
             [
              0.8888888888888888,
              "#fdca26"
             ],
             [
              1.0,
              "#f0f921"
             ]
            ]
           }
          ],
          "choropleth": [
           {
            "type": "choropleth",
            "colorbar": {
             "outlinewidth": 0,
             "ticks": ""
            }
           }
          ],
          "histogram2d": [
           {
            "type": "histogram2d",
            "colorbar": {
             "outlinewidth": 0,
             "ticks": ""
            },
            "colorscale": [
             [
              0.0,
              "#0d0887"
             ],
             [
              0.1111111111111111,
              "#46039f"
             ],
             [
              0.2222222222222222,
              "#7201a8"
             ],
             [
              0.3333333333333333,
              "#9c179e"
             ],
             [
              0.4444444444444444,
              "#bd3786"
             ],
             [
              0.5555555555555556,
              "#d8576b"
             ],
             [
              0.6666666666666666,
              "#ed7953"
             ],
             [
              0.7777777777777778,
              "#fb9f3a"
             ],
             [
              0.8888888888888888,
              "#fdca26"
             ],
             [
              1.0,
              "#f0f921"
             ]
            ]
           }
          ],
          "heatmap": [
           {
            "type": "heatmap",
            "colorbar": {
             "outlinewidth": 0,
             "ticks": ""
            },
            "colorscale": [
             [
              0.0,
              "#0d0887"
             ],
             [
              0.1111111111111111,
              "#46039f"
             ],
             [
              0.2222222222222222,
              "#7201a8"
             ],
             [
              0.3333333333333333,
              "#9c179e"
             ],
             [
              0.4444444444444444,
              "#bd3786"
             ],
             [
              0.5555555555555556,
              "#d8576b"
             ],
             [
              0.6666666666666666,
              "#ed7953"
             ],
             [
              0.7777777777777778,
              "#fb9f3a"
             ],
             [
              0.8888888888888888,
              "#fdca26"
             ],
             [
              1.0,
              "#f0f921"
             ]
            ]
           }
          ],
          "heatmapgl": [
           {
            "type": "heatmapgl",
            "colorbar": {
             "outlinewidth": 0,
             "ticks": ""
            },
            "colorscale": [
             [
              0.0,
              "#0d0887"
             ],
             [
              0.1111111111111111,
              "#46039f"
             ],
             [
              0.2222222222222222,
              "#7201a8"
             ],
             [
              0.3333333333333333,
              "#9c179e"
             ],
             [
              0.4444444444444444,
              "#bd3786"
             ],
             [
              0.5555555555555556,
              "#d8576b"
             ],
             [
              0.6666666666666666,
              "#ed7953"
             ],
             [
              0.7777777777777778,
              "#fb9f3a"
             ],
             [
              0.8888888888888888,
              "#fdca26"
             ],
             [
              1.0,
              "#f0f921"
             ]
            ]
           }
          ],
          "contourcarpet": [
           {
            "type": "contourcarpet",
            "colorbar": {
             "outlinewidth": 0,
             "ticks": ""
            }
           }
          ],
          "contour": [
           {
            "type": "contour",
            "colorbar": {
             "outlinewidth": 0,
             "ticks": ""
            },
            "colorscale": [
             [
              0.0,
              "#0d0887"
             ],
             [
              0.1111111111111111,
              "#46039f"
             ],
             [
              0.2222222222222222,
              "#7201a8"
             ],
             [
              0.3333333333333333,
              "#9c179e"
             ],
             [
              0.4444444444444444,
              "#bd3786"
             ],
             [
              0.5555555555555556,
              "#d8576b"
             ],
             [
              0.6666666666666666,
              "#ed7953"
             ],
             [
              0.7777777777777778,
              "#fb9f3a"
             ],
             [
              0.8888888888888888,
              "#fdca26"
             ],
             [
              1.0,
              "#f0f921"
             ]
            ]
           }
          ],
          "surface": [
           {
            "type": "surface",
            "colorbar": {
             "outlinewidth": 0,
             "ticks": ""
            },
            "colorscale": [
             [
              0.0,
              "#0d0887"
             ],
             [
              0.1111111111111111,
              "#46039f"
             ],
             [
              0.2222222222222222,
              "#7201a8"
             ],
             [
              0.3333333333333333,
              "#9c179e"
             ],
             [
              0.4444444444444444,
              "#bd3786"
             ],
             [
              0.5555555555555556,
              "#d8576b"
             ],
             [
              0.6666666666666666,
              "#ed7953"
             ],
             [
              0.7777777777777778,
              "#fb9f3a"
             ],
             [
              0.8888888888888888,
              "#fdca26"
             ],
             [
              1.0,
              "#f0f921"
             ]
            ]
           }
          ],
          "mesh3d": [
           {
            "type": "mesh3d",
            "colorbar": {
             "outlinewidth": 0,
             "ticks": ""
            }
           }
          ],
          "scatter": [
           {
            "marker": {
             "line": {
              "color": "#283442"
             }
            },
            "type": "scatter"
           }
          ],
          "parcoords": [
           {
            "type": "parcoords",
            "line": {
             "colorbar": {
              "outlinewidth": 0,
              "ticks": ""
             }
            }
           }
          ],
          "scatterpolargl": [
           {
            "type": "scatterpolargl",
            "marker": {
             "colorbar": {
              "outlinewidth": 0,
              "ticks": ""
             }
            }
           }
          ],
          "bar": [
           {
            "error_x": {
             "color": "#f2f5fa"
            },
            "error_y": {
             "color": "#f2f5fa"
            },
            "marker": {
             "line": {
              "color": "rgb(17,17,17)",
              "width": 0.5
             },
             "pattern": {
              "fillmode": "overlay",
              "size": 10,
              "solidity": 0.2
             }
            },
            "type": "bar"
           }
          ],
          "scattergeo": [
           {
            "type": "scattergeo",
            "marker": {
             "colorbar": {
              "outlinewidth": 0,
              "ticks": ""
             }
            }
           }
          ],
          "scatterpolar": [
           {
            "type": "scatterpolar",
            "marker": {
             "colorbar": {
              "outlinewidth": 0,
              "ticks": ""
             }
            }
           }
          ],
          "histogram": [
           {
            "marker": {
             "pattern": {
              "fillmode": "overlay",
              "size": 10,
              "solidity": 0.2
             }
            },
            "type": "histogram"
           }
          ],
          "scattergl": [
           {
            "marker": {
             "line": {
              "color": "#283442"
             }
            },
            "type": "scattergl"
           }
          ],
          "scatter3d": [
           {
            "type": "scatter3d",
            "line": {
             "colorbar": {
              "outlinewidth": 0,
              "ticks": ""
             }
            },
            "marker": {
             "colorbar": {
              "outlinewidth": 0,
              "ticks": ""
             }
            }
           }
          ],
          "scattermapbox": [
           {
            "type": "scattermapbox",
            "marker": {
             "colorbar": {
              "outlinewidth": 0,
              "ticks": ""
             }
            }
           }
          ],
          "scatterternary": [
           {
            "type": "scatterternary",
            "marker": {
             "colorbar": {
              "outlinewidth": 0,
              "ticks": ""
             }
            }
           }
          ],
          "scattercarpet": [
           {
            "type": "scattercarpet",
            "marker": {
             "colorbar": {
              "outlinewidth": 0,
              "ticks": ""
             }
            }
           }
          ],
          "carpet": [
           {
            "aaxis": {
             "endlinecolor": "#A2B1C6",
             "gridcolor": "#506784",
             "linecolor": "#506784",
             "minorgridcolor": "#506784",
             "startlinecolor": "#A2B1C6"
            },
            "baxis": {
             "endlinecolor": "#A2B1C6",
             "gridcolor": "#506784",
             "linecolor": "#506784",
             "minorgridcolor": "#506784",
             "startlinecolor": "#A2B1C6"
            },
            "type": "carpet"
           }
          ],
          "table": [
           {
            "cells": {
             "fill": {
              "color": "#506784"
             },
             "line": {
              "color": "rgb(17,17,17)"
             }
            },
            "header": {
             "fill": {
              "color": "#2a3f5f"
             },
             "line": {
              "color": "rgb(17,17,17)"
             }
            },
            "type": "table"
           }
          ],
          "barpolar": [
           {
            "marker": {
             "line": {
              "color": "rgb(17,17,17)",
              "width": 0.5
             },
             "pattern": {
              "fillmode": "overlay",
              "size": 10,
              "solidity": 0.2
             }
            },
            "type": "barpolar"
           }
          ],
          "pie": [
           {
            "automargin": true,
            "type": "pie"
           }
          ]
         },
         "layout": {
          "autotypenumbers": "strict",
          "colorway": [
           "#636efa",
           "#EF553B",
           "#00cc96",
           "#ab63fa",
           "#FFA15A",
           "#19d3f3",
           "#FF6692",
           "#B6E880",
           "#FF97FF",
           "#FECB52"
          ],
          "font": {
           "color": "#f2f5fa"
          },
          "hovermode": "closest",
          "hoverlabel": {
           "align": "left"
          },
          "paper_bgcolor": "rgb(17,17,17)",
          "plot_bgcolor": "rgb(17,17,17)",
          "polar": {
           "bgcolor": "rgb(17,17,17)",
           "angularaxis": {
            "gridcolor": "#506784",
            "linecolor": "#506784",
            "ticks": ""
           },
           "radialaxis": {
            "gridcolor": "#506784",
            "linecolor": "#506784",
            "ticks": ""
           }
          },
          "ternary": {
           "bgcolor": "rgb(17,17,17)",
           "aaxis": {
            "gridcolor": "#506784",
            "linecolor": "#506784",
            "ticks": ""
           },
           "baxis": {
            "gridcolor": "#506784",
            "linecolor": "#506784",
            "ticks": ""
           },
           "caxis": {
            "gridcolor": "#506784",
            "linecolor": "#506784",
            "ticks": ""
           }
          },
          "coloraxis": {
           "colorbar": {
            "outlinewidth": 0,
            "ticks": ""
           }
          },
          "colorscale": {
           "sequential": [
            [
             0.0,
             "#0d0887"
            ],
            [
             0.1111111111111111,
             "#46039f"
            ],
            [
             0.2222222222222222,
             "#7201a8"
            ],
            [
             0.3333333333333333,
             "#9c179e"
            ],
            [
             0.4444444444444444,
             "#bd3786"
            ],
            [
             0.5555555555555556,
             "#d8576b"
            ],
            [
             0.6666666666666666,
             "#ed7953"
            ],
            [
             0.7777777777777778,
             "#fb9f3a"
            ],
            [
             0.8888888888888888,
             "#fdca26"
            ],
            [
             1.0,
             "#f0f921"
            ]
           ],
           "sequentialminus": [
            [
             0.0,
             "#0d0887"
            ],
            [
             0.1111111111111111,
             "#46039f"
            ],
            [
             0.2222222222222222,
             "#7201a8"
            ],
            [
             0.3333333333333333,
             "#9c179e"
            ],
            [
             0.4444444444444444,
             "#bd3786"
            ],
            [
             0.5555555555555556,
             "#d8576b"
            ],
            [
             0.6666666666666666,
             "#ed7953"
            ],
            [
             0.7777777777777778,
             "#fb9f3a"
            ],
            [
             0.8888888888888888,
             "#fdca26"
            ],
            [
             1.0,
             "#f0f921"
            ]
           ],
           "diverging": [
            [
             0,
             "#8e0152"
            ],
            [
             0.1,
             "#c51b7d"
            ],
            [
             0.2,
             "#de77ae"
            ],
            [
             0.3,
             "#f1b6da"
            ],
            [
             0.4,
             "#fde0ef"
            ],
            [
             0.5,
             "#f7f7f7"
            ],
            [
             0.6,
             "#e6f5d0"
            ],
            [
             0.7,
             "#b8e186"
            ],
            [
             0.8,
             "#7fbc41"
            ],
            [
             0.9,
             "#4d9221"
            ],
            [
             1,
             "#276419"
            ]
           ]
          },
          "xaxis": {
           "gridcolor": "#283442",
           "linecolor": "#506784",
           "ticks": "",
           "title": {
            "standoff": 15
           },
           "zerolinecolor": "#283442",
           "automargin": true,
           "zerolinewidth": 2
          },
          "yaxis": {
           "gridcolor": "#283442",
           "linecolor": "#506784",
           "ticks": "",
           "title": {
            "standoff": 15
           },
           "zerolinecolor": "#283442",
           "automargin": true,
           "zerolinewidth": 2
          },
          "scene": {
           "xaxis": {
            "backgroundcolor": "rgb(17,17,17)",
            "gridcolor": "#506784",
            "linecolor": "#506784",
            "showbackground": true,
            "ticks": "",
            "zerolinecolor": "#C8D4E3",
            "gridwidth": 2
           },
           "yaxis": {
            "backgroundcolor": "rgb(17,17,17)",
            "gridcolor": "#506784",
            "linecolor": "#506784",
            "showbackground": true,
            "ticks": "",
            "zerolinecolor": "#C8D4E3",
            "gridwidth": 2
           },
           "zaxis": {
            "backgroundcolor": "rgb(17,17,17)",
            "gridcolor": "#506784",
            "linecolor": "#506784",
            "showbackground": true,
            "ticks": "",
            "zerolinecolor": "#C8D4E3",
            "gridwidth": 2
           }
          },
          "shapedefaults": {
           "line": {
            "color": "#f2f5fa"
           }
          },
          "annotationdefaults": {
           "arrowcolor": "#f2f5fa",
           "arrowhead": 0,
           "arrowwidth": 1
          },
          "geo": {
           "bgcolor": "rgb(17,17,17)",
           "landcolor": "rgb(17,17,17)",
           "subunitcolor": "#506784",
           "showland": true,
           "showlakes": true,
           "lakecolor": "rgb(17,17,17)"
          },
          "title": {
           "x": 0.05
          },
          "updatemenudefaults": {
           "bgcolor": "#506784",
           "borderwidth": 0
          },
          "sliderdefaults": {
           "bgcolor": "#C8D4E3",
           "borderwidth": 1,
           "bordercolor": "rgb(17,17,17)",
           "tickwidth": 0
          },
          "mapbox": {
           "style": "dark"
          }
         }
        },
        "scene": {
         "domain": {
          "x": [
           0.0,
           0.2888888888888889
          ],
          "y": [
           0.0,
           1.0
          ]
         }
        },
        "scene2": {
         "domain": {
          "x": [
           0.35555555555555557,
           0.6444444444444445
          ],
          "y": [
           0.0,
           1.0
          ]
         }
        },
        "scene3": {
         "domain": {
          "x": [
           0.7111111111111111,
           1.0
          ],
          "y": [
           0.0,
           1.0
          ]
         }
        },
        "annotations": [
         {
          "font": {
           "size": 16
          },
          "showarrow": false,
          "text": "ambeovr",
          "x": 0.14444444444444446,
          "xanchor": "center",
          "xref": "paper",
          "y": 1.0,
          "yanchor": "bottom",
          "yref": "paper"
         },
         {
          "font": {
           "size": 16
          },
          "showarrow": false,
          "text": "eigenmike32",
          "x": 0.5,
          "xanchor": "center",
          "xref": "paper",
          "y": 1.0,
          "yanchor": "bottom",
          "yref": "paper"
         },
         {
          "font": {
           "size": 16
          },
          "showarrow": false,
          "text": "eigenmike64",
          "x": 0.8555555555555556,
          "xanchor": "center",
          "xref": "paper",
          "y": 1.0,
          "yanchor": "bottom",
          "yref": "paper"
         }
        ],
        "margin": {
         "l": 10,
         "r": 10,
         "b": 10,
         "t": 10
        },
        "width": 1080,
        "height": 500,
        "autosize": false
       },
       "config": {
        "plotlyServerURL": "https://plot.ly"
       }
      },
      "text/html": [
       "<div>                            <div id=\"eee1fcd3-2cd2-43f9-90bf-1721c8163c18\" class=\"plotly-graph-div\" style=\"height:500px; width:1080px;\"></div>            <script type=\"text/javascript\">                require([\"plotly\"], function(Plotly) {                    window.PLOTLYENV=window.PLOTLYENV || {};                                    if (document.getElementById(\"eee1fcd3-2cd2-43f9-90bf-1721c8163c18\")) {                    Plotly.newPlot(                        \"eee1fcd3-2cd2-43f9-90bf-1721c8163c18\",                        [{\"hovertext\":[\"FLU\",\"FRD\",\"BLD\",\"BRU\"],\"marker\":{\"size\":5},\"mode\":\"markers\",\"name\":\"ambeovr\",\"x\":[0.005792279653395693,0.005792279653395693,-0.005792279653395692,-0.005792279653395692],\"y\":[0.005792279653395692,-0.005792279653395692,0.005792279653395693,-0.005792279653395693],\"z\":[0.00573576436351046,-0.00573576436351046,-0.00573576436351046,0.00573576436351046],\"type\":\"scatter3d\",\"scene\":\"scene\"},{\"hovertext\":[\"1\",\"2\",\"3\",\"4\",\"5\",\"6\",\"7\",\"8\",\"9\",\"10\",\"11\",\"12\",\"13\",\"14\",\"15\",\"16\",\"17\",\"18\",\"19\",\"20\",\"21\",\"22\",\"23\",\"24\",\"25\",\"26\",\"27\",\"28\",\"29\",\"30\",\"31\",\"32\"],\"marker\":{\"size\":5},\"mode\":\"markers\",\"name\":\"eigenmike32\",\"x\":[0.039210377912882476,0.03561802003856989,0.039210377912882476,0.03561802003856989,0.022256609097794606,0.02432757454426191,0.015051453880902618,0.02432757454426191,0.022256609097794606,0.02432757454426191,0.015051453880902618,0.02432757454426191,-0.0002626840906015402,2.180974711610045e-18,2.2044271013910995e-18,0.00026268409060154206,-0.039210377912882476,-0.03561802003856989,-0.039210377912882476,-0.03561802003856989,-0.022256609097794606,-0.024327574544261907,-0.015051453880902612,-0.024327574544261907,-0.022256609097794606,-0.024327574544261907,-0.015051453880902612,-0.024327574544261907,-0.0002626840906015402,2.180974711610045e-18,2.180974711610045e-18,0.00026268409060154206],\"y\":[0.0,0.022256609097794606,0.0,-0.022256609097794606,0.0,0.024327574544261907,0.039210377912882476,0.024327574544261907,0.0,-0.024327574544261907,-0.039210377912882476,-0.024327574544261907,0.015049161471573202,0.03561802003856989,0.036001026629488724,0.015049161471573202,4.80188638043696e-18,-0.022256609097794606,4.80188638043696e-18,0.022256609097794606,2.7256485091488026e-18,-0.02432757454426191,-0.039210377912882476,-0.02432757454426191,2.7256485091488026e-18,0.02432757454426191,0.039210377912882476,0.02432757454426191,-0.015049161471573202,-0.03561802003856989,-0.03561802003856989,-0.015049161471573202],\"z\":[0.015051453880902612,0.0,-0.015051453880902612,0.0,0.03561802003856989,0.024090210326743935,0.0,-0.024090210326743935,-0.03561802003856989,-0.024090210326743935,0.0,0.024090210326743935,0.039210377912882476,0.022256609097794606,-0.021631599146222275,-0.039210377912882476,0.015051453880902612,0.0,-0.015051453880902612,0.0,0.03561802003856989,0.024090210326743935,0.0,-0.024090210326743935,-0.03561802003856989,-0.024090210326743935,0.0,0.024090210326743935,0.039210377912882476,0.022256609097794606,-0.022256609097794606,-0.039210377912882476],\"type\":\"scatter3d\",\"scene\":\"scene2\"},{\"hovertext\":[\"1\",\"2\",\"3\",\"4\",\"5\",\"6\",\"7\",\"8\",\"9\",\"10\",\"11\",\"12\",\"13\",\"14\",\"15\",\"16\",\"17\",\"18\",\"19\",\"20\",\"21\",\"22\",\"23\",\"24\",\"25\",\"26\",\"27\",\"28\",\"29\",\"30\",\"31\",\"32\",\"33\",\"34\",\"35\",\"36\",\"37\",\"38\",\"39\",\"40\",\"41\",\"42\",\"43\",\"44\",\"45\",\"46\",\"47\",\"48\",\"49\",\"50\",\"51\",\"52\",\"53\",\"54\",\"55\",\"56\",\"57\",\"58\",\"59\",\"60\",\"61\",\"62\",\"63\",\"64\"],\"marker\":{\"size\":5},\"mode\":\"markers\",\"name\":\"eigenmike64\",\"x\":[-0.011557527067822936,-0.006821932429790403,0.003984581507060935,0.0066248589871260545,0.011805912455275595,0.022897093628364926,0.02351901868519203,0.02793034587173202,-0.02652891238065585,-0.03537721237112923,-0.008872225630222908,-0.021479053430168503,-0.003329128790366356,-0.00651557021701343,-0.010629111728296291,-0.01614562503182608,-0.024451261284446815,-0.03155002901322742,-0.025073017776199788,-0.03767278438570731,0.03682373876081454,0.03759431555859713,0.02783976692035055,0.022619911918706145,0.0123804259333581,0.008375485645416562,0.010643932361124049,0.013754284876052823,0.027326581792417665,0.0374087428810979,0.03706840650542324,0.04199972853865108,-0.028211913100208274,-0.022826426128443936,-0.009183419331136623,-0.012302439061488285,-0.0061300520163437636,0.010113570358791027,0.011839869057649983,0.006130052016343764,-0.02588789306426653,-0.024678148116354635,-0.03668000283105736,-0.036335564788914164,-0.04193574829409128,-0.03752033405115156,-0.03854693700528375,-0.02413710636047128,-0.029473768708001186,-0.005441502966432096,-0.014347566909061695,0.00444339033670756,0.023110887349598586,0.026510175740801754,0.00530024182781983,0.00940715476147122,-0.011681888533285877,-0.007155234377427717,0.014709148582451797,0.024684231764414134,0.030475332877412584,0.0272254487258666,0.03760835652196764,0.03633042042696787],\"y\":[-0.0036343187561832875,0.014153428918466271,0.028035713132410732,-0.007015641412857329,0.011078349645476958,0.024325010428297104,-0.010473309246257953,0.00724408555619346,-0.012064767837456712,-0.017670818609673636,-0.02123263454125875,-0.029365682626888972,-0.03485486296840772,0.03825029269584355,0.04056190832437057,0.026952814183318338,0.03302830791559033,0.019533651466709687,0.007839149121863332,0.000953599071374472,0.014335508698807786,0.018160043012023765,0.030768751844692743,0.03341826412098728,0.036849378344446716,0.04113742570596265,-0.024809038107366208,-0.0366548283932346,-0.024488624526675266,-0.018242230226633745,-0.0051944515246299516,0.0,0.00294876414900686,-0.014665559551673467,-0.028126626340585,0.006918778416413281,-0.010980583956362323,-0.023754577679931846,-0.006560245467532904,0.010980583956362321,-0.027676990205213314,-0.0338744667475215,-0.00889958164305791,-0.020700232747335224,-0.0023218126646845512,0.010964605361977981,0.01640032909106145,0.02066462942769861,0.02848934142870576,0.02490060426476308,0.03455107157115389,0.03696702089782962,-0.02989336679947112,-0.032575434668302476,-0.03654614819264083,-0.040831389335074846,-0.038563324039028034,-0.04086708146527558,0.02521107008985877,0.006257073788253079,0.019407451405937286,-0.01323465099096898,0.0013685195824596024,-0.016888688809730264],\"z\":[0.040214615443330985,0.03895050304904029,0.031018089873020235,0.040876546074330895,0.03875423332012813,0.025456177463184213,0.033183814631802595,0.03051915798215887,0.03024331636788127,0.014149028748010687,0.035134866483363246,0.020983492264177537,0.023196021834587792,0.016076767505610875,-0.0023986614919057187,0.02787229089851039,0.008675638180137855,0.01967313217669264,0.032770284109838885,0.0185432458172533,0.014230441104255746,-0.0045694940072254124,0.006498560435994426,-0.011642989647419192,0.015901206537129682,-0.0012503785386134786,0.03217480896725057,0.015206682840478644,0.02043441206234782,0.005639768826325935,0.01905127062709902,0.0001510055615469985,-0.030974065752171265,-0.03206049957874972,-0.029808684977462804,-0.039557306510465816,-0.040073048776630385,-0.033127567581183306,-0.03975903268571076,-0.040073048776630385,-0.018105281159750804,0.002740348174652786,-0.01842212905426979,-0.003902191137908541,-4.691444053764699e-05,-0.015362355351510428,0.0030270205178640278,-0.02746585493224615,-0.009146277007934958,-0.033381880604842706,-0.019088498554758034,-0.019434393436767772,-0.018337761785628102,0.00022724075990828037,-0.020007160939227848,-0.0028815072898165277,-0.011849199101914308,0.006533320251955007,-0.03020004789571674,-0.03339966661224397,-0.021415062828230937,-0.029113896249427916,-0.018647752515222812,-0.012604473090448796],\"type\":\"scatter3d\",\"scene\":\"scene3\"}],                        {\"template\":{\"data\":{\"histogram2dcontour\":[{\"type\":\"histogram2dcontour\",\"colorbar\":{\"outlinewidth\":0,\"ticks\":\"\"},\"colorscale\":[[0.0,\"#0d0887\"],[0.1111111111111111,\"#46039f\"],[0.2222222222222222,\"#7201a8\"],[0.3333333333333333,\"#9c179e\"],[0.4444444444444444,\"#bd3786\"],[0.5555555555555556,\"#d8576b\"],[0.6666666666666666,\"#ed7953\"],[0.7777777777777778,\"#fb9f3a\"],[0.8888888888888888,\"#fdca26\"],[1.0,\"#f0f921\"]]}],\"choropleth\":[{\"type\":\"choropleth\",\"colorbar\":{\"outlinewidth\":0,\"ticks\":\"\"}}],\"histogram2d\":[{\"type\":\"histogram2d\",\"colorbar\":{\"outlinewidth\":0,\"ticks\":\"\"},\"colorscale\":[[0.0,\"#0d0887\"],[0.1111111111111111,\"#46039f\"],[0.2222222222222222,\"#7201a8\"],[0.3333333333333333,\"#9c179e\"],[0.4444444444444444,\"#bd3786\"],[0.5555555555555556,\"#d8576b\"],[0.6666666666666666,\"#ed7953\"],[0.7777777777777778,\"#fb9f3a\"],[0.8888888888888888,\"#fdca26\"],[1.0,\"#f0f921\"]]}],\"heatmap\":[{\"type\":\"heatmap\",\"colorbar\":{\"outlinewidth\":0,\"ticks\":\"\"},\"colorscale\":[[0.0,\"#0d0887\"],[0.1111111111111111,\"#46039f\"],[0.2222222222222222,\"#7201a8\"],[0.3333333333333333,\"#9c179e\"],[0.4444444444444444,\"#bd3786\"],[0.5555555555555556,\"#d8576b\"],[0.6666666666666666,\"#ed7953\"],[0.7777777777777778,\"#fb9f3a\"],[0.8888888888888888,\"#fdca26\"],[1.0,\"#f0f921\"]]}],\"heatmapgl\":[{\"type\":\"heatmapgl\",\"colorbar\":{\"outlinewidth\":0,\"ticks\":\"\"},\"colorscale\":[[0.0,\"#0d0887\"],[0.1111111111111111,\"#46039f\"],[0.2222222222222222,\"#7201a8\"],[0.3333333333333333,\"#9c179e\"],[0.4444444444444444,\"#bd3786\"],[0.5555555555555556,\"#d8576b\"],[0.6666666666666666,\"#ed7953\"],[0.7777777777777778,\"#fb9f3a\"],[0.8888888888888888,\"#fdca26\"],[1.0,\"#f0f921\"]]}],\"contourcarpet\":[{\"type\":\"contourcarpet\",\"colorbar\":{\"outlinewidth\":0,\"ticks\":\"\"}}],\"contour\":[{\"type\":\"contour\",\"colorbar\":{\"outlinewidth\":0,\"ticks\":\"\"},\"colorscale\":[[0.0,\"#0d0887\"],[0.1111111111111111,\"#46039f\"],[0.2222222222222222,\"#7201a8\"],[0.3333333333333333,\"#9c179e\"],[0.4444444444444444,\"#bd3786\"],[0.5555555555555556,\"#d8576b\"],[0.6666666666666666,\"#ed7953\"],[0.7777777777777778,\"#fb9f3a\"],[0.8888888888888888,\"#fdca26\"],[1.0,\"#f0f921\"]]}],\"surface\":[{\"type\":\"surface\",\"colorbar\":{\"outlinewidth\":0,\"ticks\":\"\"},\"colorscale\":[[0.0,\"#0d0887\"],[0.1111111111111111,\"#46039f\"],[0.2222222222222222,\"#7201a8\"],[0.3333333333333333,\"#9c179e\"],[0.4444444444444444,\"#bd3786\"],[0.5555555555555556,\"#d8576b\"],[0.6666666666666666,\"#ed7953\"],[0.7777777777777778,\"#fb9f3a\"],[0.8888888888888888,\"#fdca26\"],[1.0,\"#f0f921\"]]}],\"mesh3d\":[{\"type\":\"mesh3d\",\"colorbar\":{\"outlinewidth\":0,\"ticks\":\"\"}}],\"scatter\":[{\"marker\":{\"line\":{\"color\":\"#283442\"}},\"type\":\"scatter\"}],\"parcoords\":[{\"type\":\"parcoords\",\"line\":{\"colorbar\":{\"outlinewidth\":0,\"ticks\":\"\"}}}],\"scatterpolargl\":[{\"type\":\"scatterpolargl\",\"marker\":{\"colorbar\":{\"outlinewidth\":0,\"ticks\":\"\"}}}],\"bar\":[{\"error_x\":{\"color\":\"#f2f5fa\"},\"error_y\":{\"color\":\"#f2f5fa\"},\"marker\":{\"line\":{\"color\":\"rgb(17,17,17)\",\"width\":0.5},\"pattern\":{\"fillmode\":\"overlay\",\"size\":10,\"solidity\":0.2}},\"type\":\"bar\"}],\"scattergeo\":[{\"type\":\"scattergeo\",\"marker\":{\"colorbar\":{\"outlinewidth\":0,\"ticks\":\"\"}}}],\"scatterpolar\":[{\"type\":\"scatterpolar\",\"marker\":{\"colorbar\":{\"outlinewidth\":0,\"ticks\":\"\"}}}],\"histogram\":[{\"marker\":{\"pattern\":{\"fillmode\":\"overlay\",\"size\":10,\"solidity\":0.2}},\"type\":\"histogram\"}],\"scattergl\":[{\"marker\":{\"line\":{\"color\":\"#283442\"}},\"type\":\"scattergl\"}],\"scatter3d\":[{\"type\":\"scatter3d\",\"line\":{\"colorbar\":{\"outlinewidth\":0,\"ticks\":\"\"}},\"marker\":{\"colorbar\":{\"outlinewidth\":0,\"ticks\":\"\"}}}],\"scattermapbox\":[{\"type\":\"scattermapbox\",\"marker\":{\"colorbar\":{\"outlinewidth\":0,\"ticks\":\"\"}}}],\"scatterternary\":[{\"type\":\"scatterternary\",\"marker\":{\"colorbar\":{\"outlinewidth\":0,\"ticks\":\"\"}}}],\"scattercarpet\":[{\"type\":\"scattercarpet\",\"marker\":{\"colorbar\":{\"outlinewidth\":0,\"ticks\":\"\"}}}],\"carpet\":[{\"aaxis\":{\"endlinecolor\":\"#A2B1C6\",\"gridcolor\":\"#506784\",\"linecolor\":\"#506784\",\"minorgridcolor\":\"#506784\",\"startlinecolor\":\"#A2B1C6\"},\"baxis\":{\"endlinecolor\":\"#A2B1C6\",\"gridcolor\":\"#506784\",\"linecolor\":\"#506784\",\"minorgridcolor\":\"#506784\",\"startlinecolor\":\"#A2B1C6\"},\"type\":\"carpet\"}],\"table\":[{\"cells\":{\"fill\":{\"color\":\"#506784\"},\"line\":{\"color\":\"rgb(17,17,17)\"}},\"header\":{\"fill\":{\"color\":\"#2a3f5f\"},\"line\":{\"color\":\"rgb(17,17,17)\"}},\"type\":\"table\"}],\"barpolar\":[{\"marker\":{\"line\":{\"color\":\"rgb(17,17,17)\",\"width\":0.5},\"pattern\":{\"fillmode\":\"overlay\",\"size\":10,\"solidity\":0.2}},\"type\":\"barpolar\"}],\"pie\":[{\"automargin\":true,\"type\":\"pie\"}]},\"layout\":{\"autotypenumbers\":\"strict\",\"colorway\":[\"#636efa\",\"#EF553B\",\"#00cc96\",\"#ab63fa\",\"#FFA15A\",\"#19d3f3\",\"#FF6692\",\"#B6E880\",\"#FF97FF\",\"#FECB52\"],\"font\":{\"color\":\"#f2f5fa\"},\"hovermode\":\"closest\",\"hoverlabel\":{\"align\":\"left\"},\"paper_bgcolor\":\"rgb(17,17,17)\",\"plot_bgcolor\":\"rgb(17,17,17)\",\"polar\":{\"bgcolor\":\"rgb(17,17,17)\",\"angularaxis\":{\"gridcolor\":\"#506784\",\"linecolor\":\"#506784\",\"ticks\":\"\"},\"radialaxis\":{\"gridcolor\":\"#506784\",\"linecolor\":\"#506784\",\"ticks\":\"\"}},\"ternary\":{\"bgcolor\":\"rgb(17,17,17)\",\"aaxis\":{\"gridcolor\":\"#506784\",\"linecolor\":\"#506784\",\"ticks\":\"\"},\"baxis\":{\"gridcolor\":\"#506784\",\"linecolor\":\"#506784\",\"ticks\":\"\"},\"caxis\":{\"gridcolor\":\"#506784\",\"linecolor\":\"#506784\",\"ticks\":\"\"}},\"coloraxis\":{\"colorbar\":{\"outlinewidth\":0,\"ticks\":\"\"}},\"colorscale\":{\"sequential\":[[0.0,\"#0d0887\"],[0.1111111111111111,\"#46039f\"],[0.2222222222222222,\"#7201a8\"],[0.3333333333333333,\"#9c179e\"],[0.4444444444444444,\"#bd3786\"],[0.5555555555555556,\"#d8576b\"],[0.6666666666666666,\"#ed7953\"],[0.7777777777777778,\"#fb9f3a\"],[0.8888888888888888,\"#fdca26\"],[1.0,\"#f0f921\"]],\"sequentialminus\":[[0.0,\"#0d0887\"],[0.1111111111111111,\"#46039f\"],[0.2222222222222222,\"#7201a8\"],[0.3333333333333333,\"#9c179e\"],[0.4444444444444444,\"#bd3786\"],[0.5555555555555556,\"#d8576b\"],[0.6666666666666666,\"#ed7953\"],[0.7777777777777778,\"#fb9f3a\"],[0.8888888888888888,\"#fdca26\"],[1.0,\"#f0f921\"]],\"diverging\":[[0,\"#8e0152\"],[0.1,\"#c51b7d\"],[0.2,\"#de77ae\"],[0.3,\"#f1b6da\"],[0.4,\"#fde0ef\"],[0.5,\"#f7f7f7\"],[0.6,\"#e6f5d0\"],[0.7,\"#b8e186\"],[0.8,\"#7fbc41\"],[0.9,\"#4d9221\"],[1,\"#276419\"]]},\"xaxis\":{\"gridcolor\":\"#283442\",\"linecolor\":\"#506784\",\"ticks\":\"\",\"title\":{\"standoff\":15},\"zerolinecolor\":\"#283442\",\"automargin\":true,\"zerolinewidth\":2},\"yaxis\":{\"gridcolor\":\"#283442\",\"linecolor\":\"#506784\",\"ticks\":\"\",\"title\":{\"standoff\":15},\"zerolinecolor\":\"#283442\",\"automargin\":true,\"zerolinewidth\":2},\"scene\":{\"xaxis\":{\"backgroundcolor\":\"rgb(17,17,17)\",\"gridcolor\":\"#506784\",\"linecolor\":\"#506784\",\"showbackground\":true,\"ticks\":\"\",\"zerolinecolor\":\"#C8D4E3\",\"gridwidth\":2},\"yaxis\":{\"backgroundcolor\":\"rgb(17,17,17)\",\"gridcolor\":\"#506784\",\"linecolor\":\"#506784\",\"showbackground\":true,\"ticks\":\"\",\"zerolinecolor\":\"#C8D4E3\",\"gridwidth\":2},\"zaxis\":{\"backgroundcolor\":\"rgb(17,17,17)\",\"gridcolor\":\"#506784\",\"linecolor\":\"#506784\",\"showbackground\":true,\"ticks\":\"\",\"zerolinecolor\":\"#C8D4E3\",\"gridwidth\":2}},\"shapedefaults\":{\"line\":{\"color\":\"#f2f5fa\"}},\"annotationdefaults\":{\"arrowcolor\":\"#f2f5fa\",\"arrowhead\":0,\"arrowwidth\":1},\"geo\":{\"bgcolor\":\"rgb(17,17,17)\",\"landcolor\":\"rgb(17,17,17)\",\"subunitcolor\":\"#506784\",\"showland\":true,\"showlakes\":true,\"lakecolor\":\"rgb(17,17,17)\"},\"title\":{\"x\":0.05},\"updatemenudefaults\":{\"bgcolor\":\"#506784\",\"borderwidth\":0},\"sliderdefaults\":{\"bgcolor\":\"#C8D4E3\",\"borderwidth\":1,\"bordercolor\":\"rgb(17,17,17)\",\"tickwidth\":0},\"mapbox\":{\"style\":\"dark\"}}},\"scene\":{\"domain\":{\"x\":[0.0,0.2888888888888889],\"y\":[0.0,1.0]}},\"scene2\":{\"domain\":{\"x\":[0.35555555555555557,0.6444444444444445],\"y\":[0.0,1.0]}},\"scene3\":{\"domain\":{\"x\":[0.7111111111111111,1.0],\"y\":[0.0,1.0]}},\"annotations\":[{\"font\":{\"size\":16},\"showarrow\":false,\"text\":\"ambeovr\",\"x\":0.14444444444444446,\"xanchor\":\"center\",\"xref\":\"paper\",\"y\":1.0,\"yanchor\":\"bottom\",\"yref\":\"paper\"},{\"font\":{\"size\":16},\"showarrow\":false,\"text\":\"eigenmike32\",\"x\":0.5,\"xanchor\":\"center\",\"xref\":\"paper\",\"y\":1.0,\"yanchor\":\"bottom\",\"yref\":\"paper\"},{\"font\":{\"size\":16},\"showarrow\":false,\"text\":\"eigenmike64\",\"x\":0.8555555555555556,\"xanchor\":\"center\",\"xref\":\"paper\",\"y\":1.0,\"yanchor\":\"bottom\",\"yref\":\"paper\"}],\"margin\":{\"l\":10,\"r\":10,\"b\":10,\"t\":10},\"width\":1080,\"height\":500,\"autosize\":false},                        {\"responsive\": true}                    ).then(function(){\n",
       "                            \n",
       "var gd = document.getElementById('eee1fcd3-2cd2-43f9-90bf-1721c8163c18');\n",
       "var x = new MutationObserver(function (mutations, observer) {{\n",
       "        var display = window.getComputedStyle(gd).display;\n",
       "        if (!display || display === 'none') {{\n",
       "            console.log([gd, 'removed!']);\n",
       "            Plotly.purge(gd);\n",
       "            observer.disconnect();\n",
       "        }}\n",
       "}});\n",
       "\n",
       "// Listen for the removal of the full notebook cells\n",
       "var notebookContainer = gd.closest('#notebook-container');\n",
       "if (notebookContainer) {{\n",
       "    x.observe(notebookContainer, {childList: true});\n",
       "}}\n",
       "\n",
       "// Listen for the clearing of the current output cell\n",
       "var outputEl = gd.closest('.output');\n",
       "if (outputEl) {{\n",
       "    x.observe(outputEl, {childList: true});\n",
       "}}\n",
       "\n",
       "                        })                };                });            </script>        </div>"
      ]
     },
     "metadata": {},
     "output_type": "display_data",
     "jetTransient": {
      "display_id": null
     }
    }
   ],
   "execution_count": 8
  }
 ],
 "metadata": {
  "kernelspec": {
   "display_name": "Python 3",
   "language": "python",
   "name": "python3"
  },
  "language_info": {
   "codemirror_mode": {
    "name": "ipython",
    "version": 2
   },
   "file_extension": ".py",
   "mimetype": "text/x-python",
   "name": "python",
   "nbconvert_exporter": "python",
   "pygments_lexer": "ipython2",
   "version": "2.7.6"
  }
 },
 "nbformat": 4,
 "nbformat_minor": 5
}
