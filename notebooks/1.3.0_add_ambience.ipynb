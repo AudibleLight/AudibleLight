{
 "cells": [
  {
   "metadata": {},
   "cell_type": "markdown",
   "source": [
    "# 1.3.0: Add `Ambience`\n",
    "\n",
    "In `AudibleLight`, `Ambience` objects represent background audio. They are not \"spatialised\" (i.e., convolved with IRs) and can be added to 1) challenge a model during training, 2) increase the diversity of generated data, and 3) more accurately represent real-world conditions.\n",
    "\n",
    "Currently, two forms of background `Ambience` are supported:\n",
    "- Ambience using an audio file: this will be repeated (tiled) vertically and horizontally to match the length of the `Scene` and the number of channels per microphone added to it.\n",
    "- Ambience using a noise \"type\" (e.g., white, pink, Gaussian)\n",
    "\n",
    "**Note that the volume of an `Ambience` object is set automatically**, according to the `ref_db` value provided to `Scene.__init__`."
   ],
   "id": "703f697220473528"
  },
  {
   "metadata": {},
   "cell_type": "markdown",
   "source": [
    "## Add \"audio\" `Ambience`\n",
    "\n",
    "We can add `Ambience` using an audio file by passing in `filepath=...` to `Scene.add_ambience`."
   ],
   "id": "5954cd60f119360e"
  },
  {
   "metadata": {
    "ExecuteTime": {
     "end_time": "2025-10-07T15:58:26.763533Z",
     "start_time": "2025-10-07T15:58:20.545416Z"
    }
   },
   "cell_type": "code",
   "source": [
    "from audiblelight.ambience import NOISE_MAPPING\n",
    "from audiblelight.core import Scene\n",
    "from audiblelight import utils"
   ],
   "id": "449205512684e15f",
   "outputs": [],
   "execution_count": 1
  },
  {
   "metadata": {
    "ExecuteTime": {
     "end_time": "2025-10-07T15:58:29.031900Z",
     "start_time": "2025-10-07T15:58:26.772102Z"
    }
   },
   "cell_type": "code",
   "source": [
    "scene = Scene(\n",
    "    duration=60,\n",
    "    sample_rate=44100,\n",
    "    backend=\"rlr\",\n",
    "    backend_kwargs=dict(\n",
    "        mesh=utils.get_project_root() / \"tests/test_resources/meshes/Oyens.glb\"\n",
    "    ),\n",
    ")\n",
    "scene.add_microphone(microphone_type=\"ambeovr\")"
   ],
   "id": "1ac0c428c1a0ad28",
   "outputs": [
    {
     "name": "stdout",
     "output_type": "stream",
     "text": [
      "CreateContext: Context created\n"
     ]
    },
    {
     "name": "stderr",
     "output_type": "stream",
     "text": [
      "Warning: initializing context twice. Will destroy old context and create a new one.\n"
     ]
    },
    {
     "name": "stdout",
     "output_type": "stream",
     "text": [
      "CreateContext: Context created\n"
     ]
    }
   ],
   "execution_count": 2
  },
  {
   "metadata": {
    "ExecuteTime": {
     "end_time": "2025-10-07T15:58:29.132582Z",
     "start_time": "2025-10-07T15:58:29.129087Z"
    }
   },
   "cell_type": "code",
   "source": [
    "scene.add_ambience(filepath=utils.get_project_root() / \"tests/test_resources/soundevents/music/000010.mp3\", alias=\"audio1\")\n",
    "amb = scene.get_ambience(alias=\"audio1\")\n",
    "print(amb.filepath)"
   ],
   "id": "acd4aa04de092a32",
   "outputs": [
    {
     "name": "stdout",
     "output_type": "stream",
     "text": [
      "/home/huw-cheston/Documents/python_projects/AudibleLight/tests/test_resources/soundevents/music/000010.mp3\n"
     ]
    }
   ],
   "execution_count": 3
  },
  {
   "metadata": {},
   "cell_type": "markdown",
   "source": "Alternatively, we can also provide `bg_path` to `Scene.__init__` to randomly sample audio files from this directory",
   "id": "8f89ef1b407e812"
  },
  {
   "metadata": {
    "ExecuteTime": {
     "end_time": "2025-10-07T15:58:31.575448Z",
     "start_time": "2025-10-07T15:58:29.176573Z"
    }
   },
   "cell_type": "code",
   "source": [
    "scene = Scene(\n",
    "    duration=60,\n",
    "    sample_rate=44100,\n",
    "    backend=\"rlr\",\n",
    "    backend_kwargs=dict(\n",
    "        mesh=utils.get_project_root() / \"tests/test_resources/meshes/Oyens.glb\"\n",
    "    ),\n",
    "    bg_path=utils.get_project_root() / \"tests/test_resources/soundevents/music\"\n",
    ")\n",
    "scene.add_microphone(microphone_type=\"ambeovr\")"
   ],
   "id": "271c7549c2e40919",
   "outputs": [
    {
     "name": "stdout",
     "output_type": "stream",
     "text": [
      "CreateContext: Context created\n",
      "CreateContext: Context created\n"
     ]
    },
    {
     "name": "stderr",
     "output_type": "stream",
     "text": [
      "Warning: initializing context twice. Will destroy old context and create a new one.\n"
     ]
    }
   ],
   "execution_count": 4
  },
  {
   "metadata": {
    "ExecuteTime": {
     "end_time": "2025-10-07T15:58:31.636096Z",
     "start_time": "2025-10-07T15:58:31.631939Z"
    }
   },
   "cell_type": "code",
   "source": [
    "scene.add_ambience(filepath=None, alias=\"audio2\")\n",
    "amb2 = scene.get_ambience(\"audio2\")\n",
    "print(amb2.filepath)"
   ],
   "id": "782446388e027d10",
   "outputs": [
    {
     "name": "stdout",
     "output_type": "stream",
     "text": [
      "/home/huw-cheston/Documents/python_projects/AudibleLight/tests/test_resources/soundevents/music/001666.mp3\n"
     ]
    }
   ],
   "execution_count": 5
  },
  {
   "metadata": {},
   "cell_type": "markdown",
   "source": "When we load the ambience, we shall see that it has automatically been tiled horizontally to match the duration and sample rate of the scene, and vertically to match the channel layout of our microphone:",
   "id": "45d5a8f723d5882f"
  },
  {
   "metadata": {
    "ExecuteTime": {
     "end_time": "2025-10-07T15:58:34.039236Z",
     "start_time": "2025-10-07T15:58:31.681065Z"
    }
   },
   "cell_type": "code",
   "source": [
    "out = amb2.load_ambience(ignore_cache=True)\n",
    "print(out.shape)"
   ],
   "id": "efb8835391462eae",
   "outputs": [
    {
     "name": "stderr",
     "output_type": "stream",
     "text": [
      "\u001B[32m2025-10-07 16:58:33.440\u001B[0m | \u001B[33m\u001B[1mWARNING \u001B[0m | \u001B[36maudiblelight.ambience\u001B[0m:\u001B[36mload_ambience\u001B[0m:\u001B[36m188\u001B[0m - \u001B[33m\u001B[1mPassed audio has 2 channels, but expected 4 channels. A random mono channel will be chosen from the audio.\u001B[0m\n"
     ]
    },
    {
     "name": "stdout",
     "output_type": "stream",
     "text": [
      "(4, 2646000)\n"
     ]
    }
   ],
   "execution_count": 6
  },
  {
   "metadata": {
    "ExecuteTime": {
     "end_time": "2025-10-07T15:58:34.113505Z",
     "start_time": "2025-10-07T15:58:34.108718Z"
    }
   },
   "cell_type": "code",
   "source": [
    "print(scene.sample_rate * scene.duration)\n",
    "print(scene.get_microphone(\"mic000\").n_capsules)"
   ],
   "id": "c895bf25203bb547",
   "outputs": [
    {
     "name": "stdout",
     "output_type": "stream",
     "text": [
      "2646000.0\n",
      "4\n"
     ]
    }
   ],
   "execution_count": 7
  },
  {
   "metadata": {},
   "cell_type": "markdown",
   "source": [
    "## Add \"noise\" `Ambience`\n",
    "\n",
    "We can also add `Ambience` according to a particular type of (coloured) noise. This can be represented as either a string (e.g., \"white\", \"Gaussian\") or a numeric exponent. In general terms, higher exponents cause more energy in high frequency parts of the audio spectrum."
   ],
   "id": "3186b20b37670d9f"
  },
  {
   "metadata": {
    "ExecuteTime": {
     "end_time": "2025-10-07T15:58:34.163368Z",
     "start_time": "2025-10-07T15:58:34.158784Z"
    }
   },
   "cell_type": "code",
   "source": [
    "scene.clear_ambience()\n",
    "scene.add_ambience(noise=\"white\", alias=\"whitenoise\")\n",
    "\n",
    "# Equivalent:\n",
    "# scene.add_ambience(noise=0.0, alias=\"beta2noise\")"
   ],
   "id": "2e0e99f9374e4578",
   "outputs": [],
   "execution_count": 8
  },
  {
   "metadata": {},
   "cell_type": "markdown",
   "source": "To see the types of noise that are available:",
   "id": "4a4c836ade743793"
  },
  {
   "metadata": {
    "ExecuteTime": {
     "end_time": "2025-10-07T15:58:34.209984Z",
     "start_time": "2025-10-07T15:58:34.206801Z"
    }
   },
   "cell_type": "code",
   "source": "print(NOISE_MAPPING.keys())",
   "id": "ee39f00fcebbc4e3",
   "outputs": [
    {
     "name": "stdout",
     "output_type": "stream",
     "text": [
      "dict_keys(['pink', 'brown', 'red', 'blue', 'white', 'violet'])\n"
     ]
    }
   ],
   "execution_count": 9
  },
  {
   "metadata": {},
   "cell_type": "markdown",
   "source": "Again, note that the duration of the `Ambience` audio is set according to the `Scene` and microphone objects added to it:",
   "id": "d931133b1f0a8cb2"
  },
  {
   "metadata": {
    "ExecuteTime": {
     "end_time": "2025-10-07T15:58:36.037799Z",
     "start_time": "2025-10-07T15:58:34.253578Z"
    }
   },
   "cell_type": "code",
   "source": [
    "ambwn = scene.get_ambience(\"whitenoise\")\n",
    "ambwn_aud = ambwn.load_ambience(ignore_cache=True)\n",
    "print(ambwn_aud.shape)"
   ],
   "id": "a67c015facd64b81",
   "outputs": [
    {
     "name": "stdout",
     "output_type": "stream",
     "text": [
      "(4, 2646000)\n"
     ]
    }
   ],
   "execution_count": 10
  },
  {
   "metadata": {},
   "cell_type": "markdown",
   "source": "Audio associated with any `Ambience` objects added to a `Scene` is automatically rendered whenever `Scene.generate` is called.",
   "id": "25f1920deef596a3"
  }
 ],
 "metadata": {
  "kernelspec": {
   "display_name": "Python 3",
   "language": "python",
   "name": "python3"
  },
  "language_info": {
   "codemirror_mode": {
    "name": "ipython",
    "version": 2
   },
   "file_extension": ".py",
   "mimetype": "text/x-python",
   "name": "python",
   "nbconvert_exporter": "python",
   "pygments_lexer": "ipython2",
   "version": "2.7.6"
  }
 },
 "nbformat": 4,
 "nbformat_minor": 5
}
