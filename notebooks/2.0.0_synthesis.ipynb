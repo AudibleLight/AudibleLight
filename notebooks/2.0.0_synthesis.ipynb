{
 "cells": [
  {
   "metadata": {},
   "cell_type": "markdown",
   "source": [
    "# 2.0.0: Synthesis\n",
    "\n",
    "The final step in any `AudibleLight` data generation pipeline is synthesis, which refers to generating any outputs (e.g., audio, visuals, metadata)."
   ],
   "id": "703f697220473528"
  },
  {
   "metadata": {},
   "cell_type": "markdown",
   "source": [
    "## `Scene.generate`\n",
    "\n",
    "Calling `scene.generate` can be used to do the following:\n",
    "- render IRs for all microphones;\n",
    "- convolve `Event` audio with IRs for all microphones;\n",
    "- combine `Event` + `Ambience` audio together WRT the `Scene` noise floor\n",
    "- save spatial audio for all microphones;\n",
    "- save DCASE-style metadata for all microphones;\n",
    "- save a custom `AudibleLight` JSON file for the `Scene`, which can be used to reproduce the `Scene` at a later date."
   ],
   "id": "d374146eacb9e61b"
  },
  {
   "metadata": {
    "ExecuteTime": {
     "end_time": "2025-10-07T16:19:13.268740Z",
     "start_time": "2025-10-07T16:19:07.153501Z"
    }
   },
   "cell_type": "code",
   "source": [
    "import os\n",
    "\n",
    "from audiblelight.core import Scene\n",
    "from audiblelight import utils"
   ],
   "id": "b07f1ecedd395f2",
   "outputs": [],
   "execution_count": 1
  },
  {
   "metadata": {},
   "cell_type": "markdown",
   "source": "First, we'll generate a simple scene with one static and one moving `Event`, + some `Ambience`",
   "id": "fd631d3464bf68a5"
  },
  {
   "metadata": {
    "ExecuteTime": {
     "end_time": "2025-10-07T16:20:34.476622Z",
     "start_time": "2025-10-07T16:19:43.934223Z"
    }
   },
   "cell_type": "code",
   "source": [
    "scene = Scene(\n",
    "    duration=60,\n",
    "    sample_rate=44100,\n",
    "    backend=\"rlr\",\n",
    "    state_kwargs=dict(\n",
    "        mesh=utils.get_project_root() / \"tests/test_resources/meshes/Oyens.glb\"\n",
    "    ),\n",
    "    fg_path=utils.get_project_root() / \"tests/test_resources/soundevents\"\n",
    ")\n",
    "scene.add_microphone(microphone_type=\"ambeovr\")\n",
    "scene.add_event(event_type=\"static\")\n",
    "scene.add_event(event_type=\"moving\")\n",
    "scene.add_ambience(noise=\"gaussian\")"
   ],
   "id": "84bc9dff24e31ccb",
   "outputs": [
    {
     "name": "stdout",
     "output_type": "stream",
     "text": [
      "CreateContext: Context created\n"
     ]
    },
    {
     "name": "stderr",
     "output_type": "stream",
     "text": [
      "Warning: initializing context twice. Will destroy old context and create a new one.\n"
     ]
    },
    {
     "name": "stdout",
     "output_type": "stream",
     "text": [
      "CreateContext: Context created\n"
     ]
    },
    {
     "name": "stderr",
     "output_type": "stream",
     "text": [
      "Warning: initializing context twice. Will destroy old context and create a new one.\n"
     ]
    },
    {
     "name": "stdout",
     "output_type": "stream",
     "text": [
      "CreateContext: Context created\n"
     ]
    },
    {
     "name": "stderr",
     "output_type": "stream",
     "text": [
      "\u001B[32m2025-10-07 17:19:46.852\u001B[0m | \u001B[1mINFO    \u001B[0m | \u001B[36maudiblelight.core\u001B[0m:\u001B[36madd_event\u001B[0m:\u001B[36m834\u001B[0m - \u001B[1mEvent added successfully: Static 'Event' with alias 'event000', audio file '/home/huw-cheston/Documents/python_projects/AudibleLight/tests/test_resources/soundevents/musicInstrument/8390.wav' (unloaded, 0 augmentations), 1 emitter(s).\u001B[0m\n",
      "Warning: initializing context twice. Will destroy old context and create a new one.\n",
      "\u001B[32m2025-10-07 17:20:34.473\u001B[0m | \u001B[1mINFO    \u001B[0m | \u001B[36maudiblelight.core\u001B[0m:\u001B[36madd_event\u001B[0m:\u001B[36m834\u001B[0m - \u001B[1mEvent added successfully: Moving 'Event' with alias 'event001', audio file '/home/huw-cheston/Documents/python_projects/AudibleLight/tests/test_resources/soundevents/doorCupboard/35632.wav' (unloaded, 0 augmentations), 6 emitter(s).\u001B[0m\n"
     ]
    },
    {
     "name": "stdout",
     "output_type": "stream",
     "text": [
      "CreateContext: Context created\n"
     ]
    }
   ],
   "execution_count": 2
  },
  {
   "metadata": {},
   "cell_type": "markdown",
   "source": "Now, we can call `scene.generate` to dump audio, CSV files, and JSON files inside a given output directory:",
   "id": "bc704ccd8173366a"
  },
  {
   "metadata": {},
   "cell_type": "code",
   "outputs": [],
   "execution_count": null,
   "source": [
    "os.makedirs(\"tmp\")\n",
    "scene.generate(output_dir=\"tmp\")"
   ],
   "id": "44d4a4da8af928e5"
  },
  {
   "metadata": {},
   "cell_type": "markdown",
   "source": "Note that, to avoid saving any particular outputs, we can pass the following arguments:",
   "id": "d5bbab6c474eae8c"
  },
  {
   "metadata": {},
   "cell_type": "code",
   "outputs": [],
   "execution_count": null,
   "source": [
    "scene.generate(\n",
    "    audio=False,    # don't save audio\n",
    "    metadata_json=False,    # don't save JSON\n",
    "    metadata_dcase=False    # don't save CSV\n",
    ")"
   ],
   "id": "d65dff85ce57f5e5"
  }
 ],
 "metadata": {
  "kernelspec": {
   "display_name": "Python 3",
   "language": "python",
   "name": "python3"
  },
  "language_info": {
   "codemirror_mode": {
    "name": "ipython",
    "version": 2
   },
   "file_extension": ".py",
   "mimetype": "text/x-python",
   "name": "python",
   "nbconvert_exporter": "python",
   "pygments_lexer": "ipython2",
   "version": "2.7.6"
  }
 },
 "nbformat": 4,
 "nbformat_minor": 5
}
