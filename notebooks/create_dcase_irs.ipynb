{
 "cells": [
  {
   "cell_type": "markdown",
   "id": "89837f4f-ad15-465c-89a0-c5682816bf14",
   "metadata": {
    "collapsed": true,
    "jupyter": {
     "outputs_hidden": true
    }
   },
   "source": [
    "# Create IRs for D-CASE workshop\n",
    "\n",
    "- Get 5 rooms from Gibson dataset\n",
    "- Place an Eigenmike32 in the center of the room\n",
    "- Uniformly place 20 sources in the *same room*\n",
    "- Grab the IRs and sound/microphone locations and save as numpy arrays"
   ]
  },
  {
   "cell_type": "markdown",
   "id": "8135080e-e9da-40c6-83a6-b92d74854484",
   "metadata": {},
   "source": [
    "## Import dependencies, set constants"
   ]
  },
  {
   "cell_type": "code",
   "execution_count": 36,
   "id": "af02ed7f-aed3-47be-9687-b7ef891dec48",
   "metadata": {},
   "outputs": [],
   "source": [
    "import glob\n",
    "import os\n",
    "import random\n",
    "\n",
    "import numpy as np\n",
    "import h5py\n",
    "from loguru import logger\n",
    "\n",
    "from audiblelight import utils\n",
    "from audiblelight.space import Space"
   ]
  },
  {
   "cell_type": "code",
   "execution_count": 2,
   "id": "8d976d15-8833-4c06-9f6f-f9c717222080",
   "metadata": {},
   "outputs": [],
   "source": [
    "# For reproducible random source placement\n",
    "utils.seed_everything(utils.SEED)"
   ]
  },
  {
   "cell_type": "code",
   "execution_count": 37,
   "id": "145b2dcc-33ce-42a8-a2ee-43c9709d8af2",
   "metadata": {},
   "outputs": [],
   "source": [
    "N_ROOMS = 5\n",
    "N_SOURCES = 20\n",
    "MIC_TYPE = \"eigenmike32\"\n",
    "OUT_DIR = os.path.join(utils.get_project_root(), \"resources/dcase_irs\")"
   ]
  },
  {
   "cell_type": "code",
   "execution_count": 38,
   "id": "164db06d-eb38-4b60-a085-a024ca4b59e2",
   "metadata": {},
   "outputs": [],
   "source": [
    "if not os.path.exists(OUT_DIR):\n",
    "    os.makedirs(OUT_DIR)"
   ]
  },
  {
   "cell_type": "markdown",
   "id": "a1799d8a-c5d8-42d8-ad50-9e85d0dd604e",
   "metadata": {},
   "source": [
    "## Get 5 random rooms from the Gibson dataset\n",
    "\n",
    "This probably won't work unless you have the Gibson dataset files saved inside `resources/meshes`"
   ]
  },
  {
   "cell_type": "code",
   "execution_count": 4,
   "id": "6553f596-b356-4b58-bf2c-7ce02cf0dad8",
   "metadata": {},
   "outputs": [],
   "source": [
    "# Get all the object files we're considering here\n",
    "dataset_dir = os.path.join(utils.get_project_root(), \"resources/meshes\")\n",
    "mesh_paths = glob.glob('**/*.glb', root_dir=dataset_dir)"
   ]
  },
  {
   "cell_type": "code",
   "execution_count": 5,
   "id": "dcee6600-7b1a-4519-8cbd-23a613fbd0b6",
   "metadata": {},
   "outputs": [],
   "source": [
    "gibsons = [os.path.join(dataset_dir, r) for r in random.sample(mesh_paths, N_ROOMS)]"
   ]
  },
  {
   "cell_type": "markdown",
   "id": "a47e9843-7731-44d8-b1b2-3d14b4608d6f",
   "metadata": {},
   "source": [
    "## Load up the rooms in AudibleLight"
   ]
  },
  {
   "cell_type": "code",
   "execution_count": 6,
   "id": "53e6f40b-bab2-4349-8e31-9a96e6aa903a",
   "metadata": {},
   "outputs": [
    {
     "name": "stderr",
     "output_type": "stream",
     "text": [
      "Material for category 'default' was not found. Using default material instead.\n",
      "Material for category 'default' was not found. Using default material instead.\n",
      "Material for category 'default' was not found. Using default material instead.\n",
      "Material for category 'default' was not found. Using default material instead.\n",
      "Material for category 'default' was not found. Using default material instead.\n"
     ]
    }
   ],
   "source": [
    "spaces = [Space(sp) for sp in gibsons]"
   ]
  },
  {
   "cell_type": "markdown",
   "id": "f1a5df24-3b1f-4811-8d1e-315b25878471",
   "metadata": {},
   "source": [
    "## Add Eigenmike32s to the spaces\n",
    "\n",
    "We just place the microphone in a random position for now"
   ]
  },
  {
   "cell_type": "code",
   "execution_count": 7,
   "id": "2e87c219-c895-4658-895d-a1ddaa966bdf",
   "metadata": {},
   "outputs": [],
   "source": [
    "for space in spaces:\n",
    "    space.add_microphones(MIC_TYPE, keep_existing=False)"
   ]
  },
  {
   "cell_type": "markdown",
   "id": "5ac0da0a-fc18-4102-9083-e28a76a92fee",
   "metadata": {},
   "source": [
    "## Place the sound sources"
   ]
  },
  {
   "cell_type": "code",
   "execution_count": 15,
   "id": "57a6032e-4469-4819-a79b-bcc2cce56a72",
   "metadata": {},
   "outputs": [
    {
     "name": "stderr",
     "output_type": "stream",
     "text": [
      "\u001B[32m2025-07-02 10:40:25.403\u001B[0m | \u001B[1mINFO    \u001B[0m | \u001B[36m__main__\u001B[0m:\u001B[36m<module>\u001B[0m:\u001B[36m3\u001B[0m - \u001B[1mPlacing sources in space 1\u001B[0m\n",
      "\u001B[32m2025-07-02 10:40:52.481\u001B[0m | \u001B[33m\u001B[1mWARNING \u001B[0m | \u001B[36maudiblelight.space\u001B[0m:\u001B[36mcalculate_weighted_average_ray_length\u001B[0m:\u001B[36m184\u001B[0m - \u001B[33m\u001B[1mSome rays cast from point [4.7478294  1.1575996  2.04331207] have infinite distances: is the mesh watertight?\u001B[0m\n",
      "\u001B[32m2025-07-02 10:41:12.684\u001B[0m | \u001B[1mINFO    \u001B[0m | \u001B[36m__main__\u001B[0m:\u001B[36m<module>\u001B[0m:\u001B[36m3\u001B[0m - \u001B[1mPlacing sources in space 2\u001B[0m\n",
      "\u001B[32m2025-07-02 10:41:19.288\u001B[0m | \u001B[33m\u001B[1mWARNING \u001B[0m | \u001B[36maudiblelight.space\u001B[0m:\u001B[36mcalculate_weighted_average_ray_length\u001B[0m:\u001B[36m184\u001B[0m - \u001B[33m\u001B[1mSome rays cast from point [ 4.70550067 -2.2388111   1.811053  ] have infinite distances: is the mesh watertight?\u001B[0m\n",
      "\u001B[32m2025-07-02 10:41:23.823\u001B[0m | \u001B[33m\u001B[1mWARNING \u001B[0m | \u001B[36maudiblelight.space\u001B[0m:\u001B[36mcalculate_weighted_average_ray_length\u001B[0m:\u001B[36m184\u001B[0m - \u001B[33m\u001B[1mSome rays cast from point [ 3.94845453 -3.89669362  0.62815019] have infinite distances: is the mesh watertight?\u001B[0m\n",
      "\u001B[32m2025-07-02 10:41:26.668\u001B[0m | \u001B[33m\u001B[1mWARNING \u001B[0m | \u001B[36maudiblelight.space\u001B[0m:\u001B[36mcalculate_weighted_average_ray_length\u001B[0m:\u001B[36m184\u001B[0m - \u001B[33m\u001B[1mSome rays cast from point [ 2.60909341 -4.88716083  0.70831383] have infinite distances: is the mesh watertight?\u001B[0m\n",
      "\u001B[32m2025-07-02 10:41:31.661\u001B[0m | \u001B[33m\u001B[1mWARNING \u001B[0m | \u001B[36maudiblelight.space\u001B[0m:\u001B[36mcalculate_weighted_average_ray_length\u001B[0m:\u001B[36m184\u001B[0m - \u001B[33m\u001B[1mSome rays cast from point [4.73746053 0.94537886 1.24958666] have infinite distances: is the mesh watertight?\u001B[0m\n",
      "\u001B[32m2025-07-02 10:41:33.626\u001B[0m | \u001B[33m\u001B[1mWARNING \u001B[0m | \u001B[36maudiblelight.space\u001B[0m:\u001B[36mcalculate_weighted_average_ray_length\u001B[0m:\u001B[36m184\u001B[0m - \u001B[33m\u001B[1mSome rays cast from point [5.53708786 1.08586546 2.03568007] have infinite distances: is the mesh watertight?\u001B[0m\n",
      "\u001B[32m2025-07-02 10:41:41.197\u001B[0m | \u001B[33m\u001B[1mWARNING \u001B[0m | \u001B[36maudiblelight.space\u001B[0m:\u001B[36mcalculate_weighted_average_ray_length\u001B[0m:\u001B[36m184\u001B[0m - \u001B[33m\u001B[1mSome rays cast from point [1.30871422 2.48295538 1.26282377] have infinite distances: is the mesh watertight?\u001B[0m\n",
      "\u001B[32m2025-07-02 10:41:53.008\u001B[0m | \u001B[33m\u001B[1mWARNING \u001B[0m | \u001B[36maudiblelight.space\u001B[0m:\u001B[36mcalculate_weighted_average_ray_length\u001B[0m:\u001B[36m184\u001B[0m - \u001B[33m\u001B[1mSome rays cast from point [ 5.04701532 -5.92860706  1.81071202] have infinite distances: is the mesh watertight?\u001B[0m\n",
      "\u001B[32m2025-07-02 10:41:55.503\u001B[0m | \u001B[33m\u001B[1mWARNING \u001B[0m | \u001B[36maudiblelight.space\u001B[0m:\u001B[36mcalculate_weighted_average_ray_length\u001B[0m:\u001B[36m184\u001B[0m - \u001B[33m\u001B[1mSome rays cast from point [4.64702314 1.2067323  0.64362106] have infinite distances: is the mesh watertight?\u001B[0m\n",
      "\u001B[32m2025-07-02 10:41:56.294\u001B[0m | \u001B[33m\u001B[1mWARNING \u001B[0m | \u001B[36maudiblelight.space\u001B[0m:\u001B[36mcalculate_weighted_average_ray_length\u001B[0m:\u001B[36m184\u001B[0m - \u001B[33m\u001B[1mSome rays cast from point [ 6.14654157 -6.17738486  1.79858535] have infinite distances: is the mesh watertight?\u001B[0m\n",
      "\u001B[32m2025-07-02 10:42:10.447\u001B[0m | \u001B[33m\u001B[1mWARNING \u001B[0m | \u001B[36maudiblelight.space\u001B[0m:\u001B[36mcalculate_weighted_average_ray_length\u001B[0m:\u001B[36m184\u001B[0m - \u001B[33m\u001B[1mSome rays cast from point [3.86309482 1.20078187 0.39657096] have infinite distances: is the mesh watertight?\u001B[0m\n",
      "\u001B[32m2025-07-02 10:42:10.607\u001B[0m | \u001B[1mINFO    \u001B[0m | \u001B[36m__main__\u001B[0m:\u001B[36m<module>\u001B[0m:\u001B[36m3\u001B[0m - \u001B[1mPlacing sources in space 3\u001B[0m\n",
      "\u001B[32m2025-07-02 10:42:11.491\u001B[0m | \u001B[33m\u001B[1mWARNING \u001B[0m | \u001B[36maudiblelight.space\u001B[0m:\u001B[36mcalculate_weighted_average_ray_length\u001B[0m:\u001B[36m184\u001B[0m - \u001B[33m\u001B[1mSome rays cast from point [-0.8682874  -7.86721187  1.89908825] have infinite distances: is the mesh watertight?\u001B[0m\n",
      "\u001B[32m2025-07-02 10:42:13.265\u001B[0m | \u001B[33m\u001B[1mWARNING \u001B[0m | \u001B[36maudiblelight.space\u001B[0m:\u001B[36mcalculate_weighted_average_ray_length\u001B[0m:\u001B[36m184\u001B[0m - \u001B[33m\u001B[1mSome rays cast from point [-8.08317715  2.70569414  1.72064027] have infinite distances: is the mesh watertight?\u001B[0m\n",
      "\u001B[32m2025-07-02 10:42:16.134\u001B[0m | \u001B[33m\u001B[1mWARNING \u001B[0m | \u001B[36maudiblelight.space\u001B[0m:\u001B[36mcalculate_weighted_average_ray_length\u001B[0m:\u001B[36m184\u001B[0m - \u001B[33m\u001B[1mSome rays cast from point [-1.19218851 -8.60486977  1.91343326] have infinite distances: is the mesh watertight?\u001B[0m\n",
      "\u001B[32m2025-07-02 10:42:18.066\u001B[0m | \u001B[33m\u001B[1mWARNING \u001B[0m | \u001B[36maudiblelight.space\u001B[0m:\u001B[36mcalculate_weighted_average_ray_length\u001B[0m:\u001B[36m184\u001B[0m - \u001B[33m\u001B[1mSome rays cast from point [ 0.90375464 -0.19702103 -1.094306  ] have infinite distances: is the mesh watertight?\u001B[0m\n",
      "\u001B[32m2025-07-02 10:42:20.920\u001B[0m | \u001B[33m\u001B[1mWARNING \u001B[0m | \u001B[36maudiblelight.space\u001B[0m:\u001B[36mcalculate_weighted_average_ray_length\u001B[0m:\u001B[36m184\u001B[0m - \u001B[33m\u001B[1mSome rays cast from point [-3.92793933  1.63364711 -0.67720269] have infinite distances: is the mesh watertight?\u001B[0m\n",
      "\u001B[32m2025-07-02 10:42:21.506\u001B[0m | \u001B[33m\u001B[1mWARNING \u001B[0m | \u001B[36maudiblelight.space\u001B[0m:\u001B[36mcalculate_weighted_average_ray_length\u001B[0m:\u001B[36m184\u001B[0m - \u001B[33m\u001B[1mSome rays cast from point [-7.48038937  0.12897745  1.59346295] have infinite distances: is the mesh watertight?\u001B[0m\n",
      "\u001B[32m2025-07-02 10:42:22.263\u001B[0m | \u001B[33m\u001B[1mWARNING \u001B[0m | \u001B[36maudiblelight.space\u001B[0m:\u001B[36mcalculate_weighted_average_ray_length\u001B[0m:\u001B[36m184\u001B[0m - \u001B[33m\u001B[1mSome rays cast from point [-6.98581655 -6.72348069  1.91927848] have infinite distances: is the mesh watertight?\u001B[0m\n",
      "\u001B[32m2025-07-02 10:42:23.811\u001B[0m | \u001B[33m\u001B[1mWARNING \u001B[0m | \u001B[36maudiblelight.space\u001B[0m:\u001B[36mcalculate_weighted_average_ray_length\u001B[0m:\u001B[36m184\u001B[0m - \u001B[33m\u001B[1mSome rays cast from point [-2.89613687  1.54023908 -1.96006689] have infinite distances: is the mesh watertight?\u001B[0m\n",
      "\u001B[32m2025-07-02 10:42:24.934\u001B[0m | \u001B[33m\u001B[1mWARNING \u001B[0m | \u001B[36maudiblelight.space\u001B[0m:\u001B[36mcalculate_weighted_average_ray_length\u001B[0m:\u001B[36m184\u001B[0m - \u001B[33m\u001B[1mSome rays cast from point [-6.33775347  0.23420621  0.40808503] have infinite distances: is the mesh watertight?\u001B[0m\n",
      "\u001B[32m2025-07-02 10:42:27.839\u001B[0m | \u001B[33m\u001B[1mWARNING \u001B[0m | \u001B[36maudiblelight.space\u001B[0m:\u001B[36mcalculate_weighted_average_ray_length\u001B[0m:\u001B[36m184\u001B[0m - \u001B[33m\u001B[1mSome rays cast from point [-6.63564808  2.1596021   0.951002  ] have infinite distances: is the mesh watertight?\u001B[0m\n",
      "\u001B[32m2025-07-02 10:42:32.897\u001B[0m | \u001B[33m\u001B[1mWARNING \u001B[0m | \u001B[36maudiblelight.space\u001B[0m:\u001B[36mcalculate_weighted_average_ray_length\u001B[0m:\u001B[36m184\u001B[0m - \u001B[33m\u001B[1mSome rays cast from point [-6.28335172  0.79782394  0.30730105] have infinite distances: is the mesh watertight?\u001B[0m\n",
      "\u001B[32m2025-07-02 10:42:33.734\u001B[0m | \u001B[33m\u001B[1mWARNING \u001B[0m | \u001B[36maudiblelight.space\u001B[0m:\u001B[36mcalculate_weighted_average_ray_length\u001B[0m:\u001B[36m184\u001B[0m - \u001B[33m\u001B[1mSome rays cast from point [-2.02575244  1.46060412 -1.39547905] have infinite distances: is the mesh watertight?\u001B[0m\n",
      "\u001B[32m2025-07-02 10:42:35.491\u001B[0m | \u001B[33m\u001B[1mWARNING \u001B[0m | \u001B[36maudiblelight.space\u001B[0m:\u001B[36mcalculate_weighted_average_ray_length\u001B[0m:\u001B[36m184\u001B[0m - \u001B[33m\u001B[1mSome rays cast from point [ 2.44693374 -4.46782077  1.90918768] have infinite distances: is the mesh watertight?\u001B[0m\n",
      "\u001B[32m2025-07-02 10:42:36.110\u001B[0m | \u001B[33m\u001B[1mWARNING \u001B[0m | \u001B[36maudiblelight.space\u001B[0m:\u001B[36mcalculate_weighted_average_ray_length\u001B[0m:\u001B[36m184\u001B[0m - \u001B[33m\u001B[1mSome rays cast from point [-2.53917176  2.53163796 -0.43808403] have infinite distances: is the mesh watertight?\u001B[0m\n",
      "\u001B[32m2025-07-02 10:42:36.897\u001B[0m | \u001B[33m\u001B[1mWARNING \u001B[0m | \u001B[36maudiblelight.space\u001B[0m:\u001B[36mcalculate_weighted_average_ray_length\u001B[0m:\u001B[36m184\u001B[0m - \u001B[33m\u001B[1mSome rays cast from point [-5.97421144  2.76838034  2.1342851 ] have infinite distances: is the mesh watertight?\u001B[0m\n",
      "\u001B[32m2025-07-02 10:42:38.265\u001B[0m | \u001B[33m\u001B[1mWARNING \u001B[0m | \u001B[36maudiblelight.space\u001B[0m:\u001B[36mcalculate_weighted_average_ray_length\u001B[0m:\u001B[36m184\u001B[0m - \u001B[33m\u001B[1mSome rays cast from point [ 2.39310941 -5.69137829  2.03588376] have infinite distances: is the mesh watertight?\u001B[0m\n",
      "\u001B[32m2025-07-02 10:42:40.714\u001B[0m | \u001B[33m\u001B[1mWARNING \u001B[0m | \u001B[36maudiblelight.space\u001B[0m:\u001B[36mcalculate_weighted_average_ray_length\u001B[0m:\u001B[36m184\u001B[0m - \u001B[33m\u001B[1mSome rays cast from point [ 3.57609907 -5.06071199  0.9515074 ] have infinite distances: is the mesh watertight?\u001B[0m\n",
      "\u001B[32m2025-07-02 10:42:44.314\u001B[0m | \u001B[33m\u001B[1mWARNING \u001B[0m | \u001B[36maudiblelight.space\u001B[0m:\u001B[36mcalculate_weighted_average_ray_length\u001B[0m:\u001B[36m184\u001B[0m - \u001B[33m\u001B[1mSome rays cast from point [-9.25188469  0.9992992   1.57814839] have infinite distances: is the mesh watertight?\u001B[0m\n",
      "\u001B[32m2025-07-02 10:42:46.036\u001B[0m | \u001B[33m\u001B[1mWARNING \u001B[0m | \u001B[36maudiblelight.space\u001B[0m:\u001B[36mcalculate_weighted_average_ray_length\u001B[0m:\u001B[36m184\u001B[0m - \u001B[33m\u001B[1mSome rays cast from point [-2.89369762  0.26427487  1.19318657] have infinite distances: is the mesh watertight?\u001B[0m\n",
      "\u001B[32m2025-07-02 10:42:48.753\u001B[0m | \u001B[33m\u001B[1mWARNING \u001B[0m | \u001B[36maudiblelight.space\u001B[0m:\u001B[36mcalculate_weighted_average_ray_length\u001B[0m:\u001B[36m184\u001B[0m - \u001B[33m\u001B[1mSome rays cast from point [-3.93516654  0.36332946  1.56700431] have infinite distances: is the mesh watertight?\u001B[0m\n",
      "\u001B[32m2025-07-02 10:42:49.386\u001B[0m | \u001B[33m\u001B[1mWARNING \u001B[0m | \u001B[36maudiblelight.space\u001B[0m:\u001B[36mcalculate_weighted_average_ray_length\u001B[0m:\u001B[36m184\u001B[0m - \u001B[33m\u001B[1mSome rays cast from point [ 0.11212596  0.3179301  -2.10038697] have infinite distances: is the mesh watertight?\u001B[0m\n",
      "\u001B[32m2025-07-02 10:42:50.032\u001B[0m | \u001B[33m\u001B[1mWARNING \u001B[0m | \u001B[36maudiblelight.space\u001B[0m:\u001B[36mcalculate_weighted_average_ray_length\u001B[0m:\u001B[36m184\u001B[0m - \u001B[33m\u001B[1mSome rays cast from point [-3.25814141 -7.8008627   0.95637063] have infinite distances: is the mesh watertight?\u001B[0m\n",
      "\u001B[32m2025-07-02 10:42:50.742\u001B[0m | \u001B[33m\u001B[1mWARNING \u001B[0m | \u001B[36maudiblelight.space\u001B[0m:\u001B[36mcalculate_weighted_average_ray_length\u001B[0m:\u001B[36m184\u001B[0m - \u001B[33m\u001B[1mSome rays cast from point [ 0.74472931 -4.57816367  2.05742351] have infinite distances: is the mesh watertight?\u001B[0m\n",
      "\u001B[32m2025-07-02 10:42:51.338\u001B[0m | \u001B[33m\u001B[1mWARNING \u001B[0m | \u001B[36maudiblelight.space\u001B[0m:\u001B[36mcalculate_weighted_average_ray_length\u001B[0m:\u001B[36m184\u001B[0m - \u001B[33m\u001B[1mSome rays cast from point [ 0.19127225  2.52777239 -1.41891448] have infinite distances: is the mesh watertight?\u001B[0m\n",
      "\u001B[32m2025-07-02 10:42:55.384\u001B[0m | \u001B[33m\u001B[1mWARNING \u001B[0m | \u001B[36maudiblelight.space\u001B[0m:\u001B[36mcalculate_weighted_average_ray_length\u001B[0m:\u001B[36m184\u001B[0m - \u001B[33m\u001B[1mSome rays cast from point [-8.49798115  0.99766263  1.53802684] have infinite distances: is the mesh watertight?\u001B[0m\n",
      "\u001B[32m2025-07-02 10:42:57.167\u001B[0m | \u001B[33m\u001B[1mWARNING \u001B[0m | \u001B[36maudiblelight.space\u001B[0m:\u001B[36mcalculate_weighted_average_ray_length\u001B[0m:\u001B[36m184\u001B[0m - \u001B[33m\u001B[1mSome rays cast from point [-2.23023441 -2.18538623  0.2068222 ] have infinite distances: is the mesh watertight?\u001B[0m\n",
      "\u001B[32m2025-07-02 10:42:58.709\u001B[0m | \u001B[33m\u001B[1mWARNING \u001B[0m | \u001B[36maudiblelight.space\u001B[0m:\u001B[36mcalculate_weighted_average_ray_length\u001B[0m:\u001B[36m184\u001B[0m - \u001B[33m\u001B[1mSome rays cast from point [-2.29041985  0.3417084  -1.40058428] have infinite distances: is the mesh watertight?\u001B[0m\n",
      "\u001B[32m2025-07-02 10:43:00.442\u001B[0m | \u001B[33m\u001B[1mWARNING \u001B[0m | \u001B[36maudiblelight.space\u001B[0m:\u001B[36mcalculate_weighted_average_ray_length\u001B[0m:\u001B[36m184\u001B[0m - \u001B[33m\u001B[1mSome rays cast from point [ 0.58424968  2.26260367 -0.65351657] have infinite distances: is the mesh watertight?\u001B[0m\n",
      "\u001B[32m2025-07-02 10:43:00.986\u001B[0m | \u001B[33m\u001B[1mWARNING \u001B[0m | \u001B[36maudiblelight.space\u001B[0m:\u001B[36mcalculate_weighted_average_ray_length\u001B[0m:\u001B[36m184\u001B[0m - \u001B[33m\u001B[1mSome rays cast from point [-10.65003539   0.02676431   1.42019084] have infinite distances: is the mesh watertight?\u001B[0m\n",
      "\u001B[32m2025-07-02 10:43:01.579\u001B[0m | \u001B[33m\u001B[1mWARNING \u001B[0m | \u001B[36maudiblelight.space\u001B[0m:\u001B[36mcalculate_weighted_average_ray_length\u001B[0m:\u001B[36m184\u001B[0m - \u001B[33m\u001B[1mSome rays cast from point [-0.5264572  -8.63471938  0.52554455] have infinite distances: is the mesh watertight?\u001B[0m\n",
      "\u001B[32m2025-07-02 10:43:03.838\u001B[0m | \u001B[33m\u001B[1mWARNING \u001B[0m | \u001B[36maudiblelight.space\u001B[0m:\u001B[36mcalculate_weighted_average_ray_length\u001B[0m:\u001B[36m184\u001B[0m - \u001B[33m\u001B[1mSome rays cast from point [-2.74795687  2.17242154 -1.12641813] have infinite distances: is the mesh watertight?\u001B[0m\n",
      "\u001B[32m2025-07-02 10:43:06.060\u001B[0m | \u001B[33m\u001B[1mWARNING \u001B[0m | \u001B[36maudiblelight.space\u001B[0m:\u001B[36mcalculate_weighted_average_ray_length\u001B[0m:\u001B[36m184\u001B[0m - \u001B[33m\u001B[1mSome rays cast from point [-1.65677645 -7.73441025 -0.83228262] have infinite distances: is the mesh watertight?\u001B[0m\n",
      "\u001B[32m2025-07-02 10:43:07.382\u001B[0m | \u001B[33m\u001B[1mWARNING \u001B[0m | \u001B[36maudiblelight.space\u001B[0m:\u001B[36mcalculate_weighted_average_ray_length\u001B[0m:\u001B[36m184\u001B[0m - \u001B[33m\u001B[1mSome rays cast from point [-3.37325562 -3.95503859  1.00792542] have infinite distances: is the mesh watertight?\u001B[0m\n",
      "\u001B[32m2025-07-02 10:43:08.353\u001B[0m | \u001B[33m\u001B[1mWARNING \u001B[0m | \u001B[36maudiblelight.space\u001B[0m:\u001B[36mcalculate_weighted_average_ray_length\u001B[0m:\u001B[36m184\u001B[0m - \u001B[33m\u001B[1mSome rays cast from point [ 2.63575022 -5.82205981 -1.91925943] have infinite distances: is the mesh watertight?\u001B[0m\n",
      "\u001B[32m2025-07-02 10:43:10.160\u001B[0m | \u001B[33m\u001B[1mWARNING \u001B[0m | \u001B[36maudiblelight.space\u001B[0m:\u001B[36mcalculate_weighted_average_ray_length\u001B[0m:\u001B[36m184\u001B[0m - \u001B[33m\u001B[1mSome rays cast from point [-6.27501772 -2.97218313  2.06082877] have infinite distances: is the mesh watertight?\u001B[0m\n",
      "\u001B[32m2025-07-02 10:43:11.488\u001B[0m | \u001B[33m\u001B[1mWARNING \u001B[0m | \u001B[36maudiblelight.space\u001B[0m:\u001B[36mcalculate_weighted_average_ray_length\u001B[0m:\u001B[36m184\u001B[0m - \u001B[33m\u001B[1mSome rays cast from point [-3.46602592 -7.36847848 -1.13794078] have infinite distances: is the mesh watertight?\u001B[0m\n",
      "\u001B[32m2025-07-02 10:43:12.658\u001B[0m | \u001B[33m\u001B[1mWARNING \u001B[0m | \u001B[36maudiblelight.space\u001B[0m:\u001B[36mcalculate_weighted_average_ray_length\u001B[0m:\u001B[36m184\u001B[0m - \u001B[33m\u001B[1mSome rays cast from point [ 2.25552729 -5.19919101  1.74781844] have infinite distances: is the mesh watertight?\u001B[0m\n",
      "\u001B[32m2025-07-02 10:43:13.233\u001B[0m | \u001B[33m\u001B[1mWARNING \u001B[0m | \u001B[36maudiblelight.space\u001B[0m:\u001B[36mcalculate_weighted_average_ray_length\u001B[0m:\u001B[36m184\u001B[0m - \u001B[33m\u001B[1mSome rays cast from point [ 2.45402431 -4.76357557 -0.7835115 ] have infinite distances: is the mesh watertight?\u001B[0m\n",
      "\u001B[32m2025-07-02 10:43:14.020\u001B[0m | \u001B[33m\u001B[1mWARNING \u001B[0m | \u001B[36maudiblelight.space\u001B[0m:\u001B[36mcalculate_weighted_average_ray_length\u001B[0m:\u001B[36m184\u001B[0m - \u001B[33m\u001B[1mSome rays cast from point [-9.3789694   0.66461896  0.71601219] have infinite distances: is the mesh watertight?\u001B[0m\n",
      "\u001B[32m2025-07-02 10:43:14.784\u001B[0m | \u001B[33m\u001B[1mWARNING \u001B[0m | \u001B[36maudiblelight.space\u001B[0m:\u001B[36mcalculate_weighted_average_ray_length\u001B[0m:\u001B[36m184\u001B[0m - \u001B[33m\u001B[1mSome rays cast from point [ 1.69555747 -5.31553578  1.21282411] have infinite distances: is the mesh watertight?\u001B[0m\n",
      "\u001B[32m2025-07-02 10:43:16.102\u001B[0m | \u001B[33m\u001B[1mWARNING \u001B[0m | \u001B[36maudiblelight.space\u001B[0m:\u001B[36mcalculate_weighted_average_ray_length\u001B[0m:\u001B[36m184\u001B[0m - \u001B[33m\u001B[1mSome rays cast from point [-3.28141767  0.78341201 -2.15097432] have infinite distances: is the mesh watertight?\u001B[0m\n",
      "\u001B[32m2025-07-02 10:43:18.696\u001B[0m | \u001B[33m\u001B[1mWARNING \u001B[0m | \u001B[36maudiblelight.space\u001B[0m:\u001B[36mcalculate_weighted_average_ray_length\u001B[0m:\u001B[36m184\u001B[0m - \u001B[33m\u001B[1mSome rays cast from point [-0.08399038  2.27406589 -1.36829497] have infinite distances: is the mesh watertight?\u001B[0m\n",
      "\u001B[32m2025-07-02 10:43:21.547\u001B[0m | \u001B[33m\u001B[1mWARNING \u001B[0m | \u001B[36maudiblelight.space\u001B[0m:\u001B[36mcalculate_weighted_average_ray_length\u001B[0m:\u001B[36m184\u001B[0m - \u001B[33m\u001B[1mSome rays cast from point [ 3.55599823 -5.79275582  1.6737012 ] have infinite distances: is the mesh watertight?\u001B[0m\n",
      "\u001B[32m2025-07-02 10:43:22.949\u001B[0m | \u001B[33m\u001B[1mWARNING \u001B[0m | \u001B[36maudiblelight.space\u001B[0m:\u001B[36mcalculate_weighted_average_ray_length\u001B[0m:\u001B[36m184\u001B[0m - \u001B[33m\u001B[1mSome rays cast from point [-3.54661202  1.07518544 -1.72275068] have infinite distances: is the mesh watertight?\u001B[0m\n",
      "\u001B[32m2025-07-02 10:43:23.550\u001B[0m | \u001B[33m\u001B[1mWARNING \u001B[0m | \u001B[36maudiblelight.space\u001B[0m:\u001B[36mcalculate_weighted_average_ray_length\u001B[0m:\u001B[36m184\u001B[0m - \u001B[33m\u001B[1mSome rays cast from point [-5.83751293  0.3910163   1.05673614] have infinite distances: is the mesh watertight?\u001B[0m\n",
      "\u001B[32m2025-07-02 10:43:25.717\u001B[0m | \u001B[33m\u001B[1mWARNING \u001B[0m | \u001B[36maudiblelight.space\u001B[0m:\u001B[36mcalculate_weighted_average_ray_length\u001B[0m:\u001B[36m184\u001B[0m - \u001B[33m\u001B[1mSome rays cast from point [ 1.69054844 -7.72086163  1.24738962] have infinite distances: is the mesh watertight?\u001B[0m\n",
      "\u001B[32m2025-07-02 10:43:26.305\u001B[0m | \u001B[33m\u001B[1mWARNING \u001B[0m | \u001B[36maudiblelight.space\u001B[0m:\u001B[36mcalculate_weighted_average_ray_length\u001B[0m:\u001B[36m184\u001B[0m - \u001B[33m\u001B[1mSome rays cast from point [-0.47999322  0.07537757 -1.10062673] have infinite distances: is the mesh watertight?\u001B[0m\n",
      "\u001B[32m2025-07-02 10:43:30.216\u001B[0m | \u001B[33m\u001B[1mWARNING \u001B[0m | \u001B[36maudiblelight.space\u001B[0m:\u001B[36mcalculate_weighted_average_ray_length\u001B[0m:\u001B[36m184\u001B[0m - \u001B[33m\u001B[1mSome rays cast from point [-9.95342253 -5.44580702  1.85760556] have infinite distances: is the mesh watertight?\u001B[0m\n",
      "\u001B[32m2025-07-02 10:43:31.376\u001B[0m | \u001B[33m\u001B[1mWARNING \u001B[0m | \u001B[36maudiblelight.space\u001B[0m:\u001B[36mcalculate_weighted_average_ray_length\u001B[0m:\u001B[36m184\u001B[0m - \u001B[33m\u001B[1mSome rays cast from point [-2.52931924  1.21821692 -1.09764291] have infinite distances: is the mesh watertight?\u001B[0m\n",
      "\u001B[32m2025-07-02 10:43:31.944\u001B[0m | \u001B[33m\u001B[1mWARNING \u001B[0m | \u001B[36maudiblelight.space\u001B[0m:\u001B[36mcalculate_weighted_average_ray_length\u001B[0m:\u001B[36m184\u001B[0m - \u001B[33m\u001B[1mSome rays cast from point [-3.59725855 -4.23125321  0.89875238] have infinite distances: is the mesh watertight?\u001B[0m\n",
      "\u001B[32m2025-07-02 10:43:32.727\u001B[0m | \u001B[33m\u001B[1mWARNING \u001B[0m | \u001B[36maudiblelight.space\u001B[0m:\u001B[36mcalculate_weighted_average_ray_length\u001B[0m:\u001B[36m184\u001B[0m - \u001B[33m\u001B[1mSome rays cast from point [-1.0606731  -0.19509957 -1.68208677] have infinite distances: is the mesh watertight?\u001B[0m\n",
      "\u001B[32m2025-07-02 10:43:33.207\u001B[0m | \u001B[33m\u001B[1mWARNING \u001B[0m | \u001B[36maudiblelight.space\u001B[0m:\u001B[36mcalculate_weighted_average_ray_length\u001B[0m:\u001B[36m184\u001B[0m - \u001B[33m\u001B[1mSome rays cast from point [ 0.925947   -7.80097184 -1.5165258 ] have infinite distances: is the mesh watertight?\u001B[0m\n",
      "\u001B[32m2025-07-02 10:43:33.590\u001B[0m | \u001B[33m\u001B[1mWARNING \u001B[0m | \u001B[36maudiblelight.space\u001B[0m:\u001B[36mcalculate_weighted_average_ray_length\u001B[0m:\u001B[36m184\u001B[0m - \u001B[33m\u001B[1mSome rays cast from point [-2.528173   -3.52807171  2.6253786 ] have infinite distances: is the mesh watertight?\u001B[0m\n",
      "\u001B[32m2025-07-02 10:43:34.310\u001B[0m | \u001B[33m\u001B[1mWARNING \u001B[0m | \u001B[36maudiblelight.space\u001B[0m:\u001B[36mcalculate_weighted_average_ray_length\u001B[0m:\u001B[36m184\u001B[0m - \u001B[33m\u001B[1mSome rays cast from point [-6.80364357  1.96257412  1.79159109] have infinite distances: is the mesh watertight?\u001B[0m\n",
      "\u001B[32m2025-07-02 10:43:37.633\u001B[0m | \u001B[33m\u001B[1mWARNING \u001B[0m | \u001B[36maudiblelight.space\u001B[0m:\u001B[36mcalculate_weighted_average_ray_length\u001B[0m:\u001B[36m184\u001B[0m - \u001B[33m\u001B[1mSome rays cast from point [-10.68483447  -0.71357462   1.62125219] have infinite distances: is the mesh watertight?\u001B[0m\n",
      "\u001B[32m2025-07-02 10:43:38.428\u001B[0m | \u001B[33m\u001B[1mWARNING \u001B[0m | \u001B[36maudiblelight.space\u001B[0m:\u001B[36mcalculate_weighted_average_ray_length\u001B[0m:\u001B[36m184\u001B[0m - \u001B[33m\u001B[1mSome rays cast from point [ 1.53384715 -7.08316121  1.80589782] have infinite distances: is the mesh watertight?\u001B[0m\n",
      "\u001B[32m2025-07-02 10:43:38.816\u001B[0m | \u001B[33m\u001B[1mWARNING \u001B[0m | \u001B[36maudiblelight.space\u001B[0m:\u001B[36mcalculate_weighted_average_ray_length\u001B[0m:\u001B[36m184\u001B[0m - \u001B[33m\u001B[1mSome rays cast from point [-7.54724798  0.9006855   0.6501602 ] have infinite distances: is the mesh watertight?\u001B[0m\n",
      "\u001B[32m2025-07-02 10:43:41.190\u001B[0m | \u001B[33m\u001B[1mWARNING \u001B[0m | \u001B[36maudiblelight.space\u001B[0m:\u001B[36mcalculate_weighted_average_ray_length\u001B[0m:\u001B[36m184\u001B[0m - \u001B[33m\u001B[1mSome rays cast from point [-10.58847466  -0.04568323   0.81282387] have infinite distances: is the mesh watertight?\u001B[0m\n",
      "\u001B[32m2025-07-02 10:43:42.732\u001B[0m | \u001B[33m\u001B[1mWARNING \u001B[0m | \u001B[36maudiblelight.space\u001B[0m:\u001B[36mcalculate_weighted_average_ray_length\u001B[0m:\u001B[36m184\u001B[0m - \u001B[33m\u001B[1mSome rays cast from point [-2.97812205 -0.87707043  2.03980966] have infinite distances: is the mesh watertight?\u001B[0m\n",
      "\u001B[32m2025-07-02 10:43:43.491\u001B[0m | \u001B[33m\u001B[1mWARNING \u001B[0m | \u001B[36maudiblelight.space\u001B[0m:\u001B[36mcalculate_weighted_average_ray_length\u001B[0m:\u001B[36m184\u001B[0m - \u001B[33m\u001B[1mSome rays cast from point [-3.59026349  0.27594105 -0.81636382] have infinite distances: is the mesh watertight?\u001B[0m\n",
      "\u001B[32m2025-07-02 10:43:44.063\u001B[0m | \u001B[33m\u001B[1mWARNING \u001B[0m | \u001B[36maudiblelight.space\u001B[0m:\u001B[36mcalculate_weighted_average_ray_length\u001B[0m:\u001B[36m184\u001B[0m - \u001B[33m\u001B[1mSome rays cast from point [-2.93343115  1.13878159 -1.97799961] have infinite distances: is the mesh watertight?\u001B[0m\n",
      "\u001B[32m2025-07-02 10:43:44.709\u001B[0m | \u001B[33m\u001B[1mWARNING \u001B[0m | \u001B[36maudiblelight.space\u001B[0m:\u001B[36mcalculate_weighted_average_ray_length\u001B[0m:\u001B[36m184\u001B[0m - \u001B[33m\u001B[1mSome rays cast from point [-0.04276438  0.2639336  -0.78761838] have infinite distances: is the mesh watertight?\u001B[0m\n",
      "\u001B[32m2025-07-02 10:43:45.265\u001B[0m | \u001B[33m\u001B[1mWARNING \u001B[0m | \u001B[36maudiblelight.space\u001B[0m:\u001B[36mcalculate_weighted_average_ray_length\u001B[0m:\u001B[36m184\u001B[0m - \u001B[33m\u001B[1mSome rays cast from point [-3.40054602  1.95281044 -0.71336782] have infinite distances: is the mesh watertight?\u001B[0m\n",
      "\u001B[32m2025-07-02 10:43:46.217\u001B[0m | \u001B[33m\u001B[1mWARNING \u001B[0m | \u001B[36maudiblelight.space\u001B[0m:\u001B[36mcalculate_weighted_average_ray_length\u001B[0m:\u001B[36m184\u001B[0m - \u001B[33m\u001B[1mSome rays cast from point [-2.67859511 -2.80928258  1.48125242] have infinite distances: is the mesh watertight?\u001B[0m\n",
      "\u001B[32m2025-07-02 10:43:48.551\u001B[0m | \u001B[33m\u001B[1mWARNING \u001B[0m | \u001B[36maudiblelight.space\u001B[0m:\u001B[36mcalculate_weighted_average_ray_length\u001B[0m:\u001B[36m184\u001B[0m - \u001B[33m\u001B[1mSome rays cast from point [ 1.27720701 -4.70823378  1.24184952] have infinite distances: is the mesh watertight?\u001B[0m\n",
      "\u001B[32m2025-07-02 10:43:50.992\u001B[0m | \u001B[33m\u001B[1mWARNING \u001B[0m | \u001B[36maudiblelight.space\u001B[0m:\u001B[36mcalculate_weighted_average_ray_length\u001B[0m:\u001B[36m184\u001B[0m - \u001B[33m\u001B[1mSome rays cast from point [-5.22935877 -6.11315627 -1.2806343 ] have infinite distances: is the mesh watertight?\u001B[0m\n",
      "\u001B[32m2025-07-02 10:43:53.684\u001B[0m | \u001B[33m\u001B[1mWARNING \u001B[0m | \u001B[36maudiblelight.space\u001B[0m:\u001B[36mcalculate_weighted_average_ray_length\u001B[0m:\u001B[36m184\u001B[0m - \u001B[33m\u001B[1mSome rays cast from point [-2.80041216  1.66939645 -1.06106291] have infinite distances: is the mesh watertight?\u001B[0m\n",
      "\u001B[32m2025-07-02 10:43:54.533\u001B[0m | \u001B[33m\u001B[1mWARNING \u001B[0m | \u001B[36maudiblelight.space\u001B[0m:\u001B[36mcalculate_weighted_average_ray_length\u001B[0m:\u001B[36m184\u001B[0m - \u001B[33m\u001B[1mSome rays cast from point [ 1.16457739 -5.8187108   1.5864157 ] have infinite distances: is the mesh watertight?\u001B[0m\n",
      "\u001B[32m2025-07-02 10:43:58.341\u001B[0m | \u001B[33m\u001B[1mWARNING \u001B[0m | \u001B[36maudiblelight.space\u001B[0m:\u001B[36mcalculate_weighted_average_ray_length\u001B[0m:\u001B[36m184\u001B[0m - \u001B[33m\u001B[1mSome rays cast from point [ 3.6953644  -6.51736939  0.83430504] have infinite distances: is the mesh watertight?\u001B[0m\n",
      "\u001B[32m2025-07-02 10:44:02.298\u001B[0m | \u001B[33m\u001B[1mWARNING \u001B[0m | \u001B[36maudiblelight.space\u001B[0m:\u001B[36mcalculate_weighted_average_ray_length\u001B[0m:\u001B[36m184\u001B[0m - \u001B[33m\u001B[1mSome rays cast from point [-8.09454815  1.20806519  1.05799817] have infinite distances: is the mesh watertight?\u001B[0m\n",
      "\u001B[32m2025-07-02 10:44:03.451\u001B[0m | \u001B[33m\u001B[1mWARNING \u001B[0m | \u001B[36maudiblelight.space\u001B[0m:\u001B[36mcalculate_weighted_average_ray_length\u001B[0m:\u001B[36m184\u001B[0m - \u001B[33m\u001B[1mSome rays cast from point [-9.75000386 -1.72248566  1.95523138] have infinite distances: is the mesh watertight?\u001B[0m\n",
      "\u001B[32m2025-07-02 10:44:04.937\u001B[0m | \u001B[33m\u001B[1mWARNING \u001B[0m | \u001B[36maudiblelight.space\u001B[0m:\u001B[36mcalculate_weighted_average_ray_length\u001B[0m:\u001B[36m184\u001B[0m - \u001B[33m\u001B[1mSome rays cast from point [ 1.65800712 -5.45345743  1.61640736] have infinite distances: is the mesh watertight?\u001B[0m\n",
      "\u001B[32m2025-07-02 10:44:06.505\u001B[0m | \u001B[33m\u001B[1mWARNING \u001B[0m | \u001B[36maudiblelight.space\u001B[0m:\u001B[36mcalculate_weighted_average_ray_length\u001B[0m:\u001B[36m184\u001B[0m - \u001B[33m\u001B[1mSome rays cast from point [-9.01121143 -0.01332674  1.87066931] have infinite distances: is the mesh watertight?\u001B[0m\n",
      "\u001B[32m2025-07-02 10:44:07.196\u001B[0m | \u001B[33m\u001B[1mWARNING \u001B[0m | \u001B[36maudiblelight.space\u001B[0m:\u001B[36mcalculate_weighted_average_ray_length\u001B[0m:\u001B[36m184\u001B[0m - \u001B[33m\u001B[1mSome rays cast from point [-1.60684063 -7.70303676  1.26378066] have infinite distances: is the mesh watertight?\u001B[0m\n",
      "\u001B[32m2025-07-02 10:44:07.658\u001B[0m | \u001B[33m\u001B[1mWARNING \u001B[0m | \u001B[36maudiblelight.space\u001B[0m:\u001B[36mcalculate_weighted_average_ray_length\u001B[0m:\u001B[36m184\u001B[0m - \u001B[33m\u001B[1mSome rays cast from point [-2.69330076  0.09327896 -1.64060091] have infinite distances: is the mesh watertight?\u001B[0m\n",
      "\u001B[32m2025-07-02 10:44:08.048\u001B[0m | \u001B[33m\u001B[1mWARNING \u001B[0m | \u001B[36maudiblelight.space\u001B[0m:\u001B[36mcalculate_weighted_average_ray_length\u001B[0m:\u001B[36m184\u001B[0m - \u001B[33m\u001B[1mSome rays cast from point [ 2.3499008  -7.40045194  0.9827055 ] have infinite distances: is the mesh watertight?\u001B[0m\n",
      "\u001B[32m2025-07-02 10:44:11.482\u001B[0m | \u001B[33m\u001B[1mWARNING \u001B[0m | \u001B[36maudiblelight.space\u001B[0m:\u001B[36mcalculate_weighted_average_ray_length\u001B[0m:\u001B[36m184\u001B[0m - \u001B[33m\u001B[1mSome rays cast from point [-3.91632811 -0.15994053 -0.76608867] have infinite distances: is the mesh watertight?\u001B[0m\n",
      "\u001B[32m2025-07-02 10:44:12.315\u001B[0m | \u001B[1mINFO    \u001B[0m | \u001B[36m__main__\u001B[0m:\u001B[36m<module>\u001B[0m:\u001B[36m3\u001B[0m - \u001B[1mPlacing sources in space 4\u001B[0m\n",
      "\u001B[32m2025-07-02 10:44:17.225\u001B[0m | \u001B[33m\u001B[1mWARNING \u001B[0m | \u001B[36maudiblelight.space\u001B[0m:\u001B[36mcalculate_weighted_average_ray_length\u001B[0m:\u001B[36m184\u001B[0m - \u001B[33m\u001B[1mSome rays cast from point [1.60946626 0.55272726 2.14140887] have infinite distances: is the mesh watertight?\u001B[0m\n",
      "\u001B[32m2025-07-02 10:44:19.503\u001B[0m | \u001B[33m\u001B[1mWARNING \u001B[0m | \u001B[36maudiblelight.space\u001B[0m:\u001B[36mcalculate_weighted_average_ray_length\u001B[0m:\u001B[36m184\u001B[0m - \u001B[33m\u001B[1mSome rays cast from point [-5.58591143 12.73880641  1.7364226 ] have infinite distances: is the mesh watertight?\u001B[0m\n",
      "\u001B[32m2025-07-02 10:44:23.746\u001B[0m | \u001B[33m\u001B[1mWARNING \u001B[0m | \u001B[36maudiblelight.space\u001B[0m:\u001B[36mcalculate_weighted_average_ray_length\u001B[0m:\u001B[36m184\u001B[0m - \u001B[33m\u001B[1mSome rays cast from point [1.56764916 0.38791294 1.54439653] have infinite distances: is the mesh watertight?\u001B[0m\n",
      "\u001B[32m2025-07-02 10:44:24.299\u001B[0m | \u001B[33m\u001B[1mWARNING \u001B[0m | \u001B[36maudiblelight.space\u001B[0m:\u001B[36mcalculate_weighted_average_ray_length\u001B[0m:\u001B[36m184\u001B[0m - \u001B[33m\u001B[1mSome rays cast from point [-4.99993262  4.47341004  1.43054131] have infinite distances: is the mesh watertight?\u001B[0m\n",
      "\u001B[32m2025-07-02 10:44:31.583\u001B[0m | \u001B[33m\u001B[1mWARNING \u001B[0m | \u001B[36maudiblelight.space\u001B[0m:\u001B[36mcalculate_weighted_average_ray_length\u001B[0m:\u001B[36m184\u001B[0m - \u001B[33m\u001B[1mSome rays cast from point [ 1.1556683   5.99661069 -0.95917876] have infinite distances: is the mesh watertight?\u001B[0m\n",
      "\u001B[32m2025-07-02 10:44:34.407\u001B[0m | \u001B[33m\u001B[1mWARNING \u001B[0m | \u001B[36maudiblelight.space\u001B[0m:\u001B[36mcalculate_weighted_average_ray_length\u001B[0m:\u001B[36m184\u001B[0m - \u001B[33m\u001B[1mSome rays cast from point [-1.44317889  4.87391564  0.69530172] have infinite distances: is the mesh watertight?\u001B[0m\n",
      "\u001B[32m2025-07-02 10:44:34.825\u001B[0m | \u001B[33m\u001B[1mWARNING \u001B[0m | \u001B[36maudiblelight.space\u001B[0m:\u001B[36mcalculate_weighted_average_ray_length\u001B[0m:\u001B[36m184\u001B[0m - \u001B[33m\u001B[1mSome rays cast from point [1.32418711 8.24966822 0.26768749] have infinite distances: is the mesh watertight?\u001B[0m\n",
      "\u001B[32m2025-07-02 10:44:36.226\u001B[0m | \u001B[33m\u001B[1mWARNING \u001B[0m | \u001B[36maudiblelight.space\u001B[0m:\u001B[36mcalculate_weighted_average_ray_length\u001B[0m:\u001B[36m184\u001B[0m - \u001B[33m\u001B[1mSome rays cast from point [ 1.42362455 11.17167401  1.55241201] have infinite distances: is the mesh watertight?\u001B[0m\n",
      "\u001B[32m2025-07-02 10:44:36.634\u001B[0m | \u001B[33m\u001B[1mWARNING \u001B[0m | \u001B[36maudiblelight.space\u001B[0m:\u001B[36mcalculate_weighted_average_ray_length\u001B[0m:\u001B[36m184\u001B[0m - \u001B[33m\u001B[1mSome rays cast from point [-2.3510448  -0.98025538  1.50654715] have infinite distances: is the mesh watertight?\u001B[0m\n",
      "\u001B[32m2025-07-02 10:44:42.680\u001B[0m | \u001B[33m\u001B[1mWARNING \u001B[0m | \u001B[36maudiblelight.space\u001B[0m:\u001B[36mcalculate_weighted_average_ray_length\u001B[0m:\u001B[36m184\u001B[0m - \u001B[33m\u001B[1mSome rays cast from point [ 0.88803724  6.69064625 -1.55999783] have infinite distances: is the mesh watertight?\u001B[0m\n",
      "\u001B[32m2025-07-02 10:44:45.740\u001B[0m | \u001B[33m\u001B[1mWARNING \u001B[0m | \u001B[36maudiblelight.space\u001B[0m:\u001B[36mcalculate_weighted_average_ray_length\u001B[0m:\u001B[36m184\u001B[0m - \u001B[33m\u001B[1mSome rays cast from point [ 0.43111601 -1.16432485  1.65137456] have infinite distances: is the mesh watertight?\u001B[0m\n",
      "\u001B[32m2025-07-02 10:44:49.372\u001B[0m | \u001B[33m\u001B[1mWARNING \u001B[0m | \u001B[36maudiblelight.space\u001B[0m:\u001B[36mcalculate_weighted_average_ray_length\u001B[0m:\u001B[36m184\u001B[0m - \u001B[33m\u001B[1mSome rays cast from point [ 1.2557517   7.4661865  -1.85741776] have infinite distances: is the mesh watertight?\u001B[0m\n",
      "\u001B[32m2025-07-02 10:44:52.139\u001B[0m | \u001B[33m\u001B[1mWARNING \u001B[0m | \u001B[36maudiblelight.space\u001B[0m:\u001B[36mcalculate_weighted_average_ray_length\u001B[0m:\u001B[36m184\u001B[0m - \u001B[33m\u001B[1mSome rays cast from point [-3.23857347  1.42837226 -1.39498543] have infinite distances: is the mesh watertight?\u001B[0m\n",
      "\u001B[32m2025-07-02 10:44:53.131\u001B[0m | \u001B[33m\u001B[1mWARNING \u001B[0m | \u001B[36maudiblelight.space\u001B[0m:\u001B[36mcalculate_weighted_average_ray_length\u001B[0m:\u001B[36m184\u001B[0m - \u001B[33m\u001B[1mSome rays cast from point [-1.15612721  0.34711826  1.80959788] have infinite distances: is the mesh watertight?\u001B[0m\n",
      "\u001B[32m2025-07-02 10:44:54.688\u001B[0m | \u001B[33m\u001B[1mWARNING \u001B[0m | \u001B[36maudiblelight.space\u001B[0m:\u001B[36mcalculate_weighted_average_ray_length\u001B[0m:\u001B[36m184\u001B[0m - \u001B[33m\u001B[1mSome rays cast from point [-4.75201268  3.51422794 -0.6631937 ] have infinite distances: is the mesh watertight?\u001B[0m\n",
      "\u001B[32m2025-07-02 10:44:56.243\u001B[0m | \u001B[1mINFO    \u001B[0m | \u001B[36m__main__\u001B[0m:\u001B[36m<module>\u001B[0m:\u001B[36m3\u001B[0m - \u001B[1mPlacing sources in space 5\u001B[0m\n",
      "\u001B[32m2025-07-02 10:44:58.514\u001B[0m | \u001B[33m\u001B[1mWARNING \u001B[0m | \u001B[36maudiblelight.space\u001B[0m:\u001B[36mcalculate_weighted_average_ray_length\u001B[0m:\u001B[36m184\u001B[0m - \u001B[33m\u001B[1mSome rays cast from point [2.55343999 1.41251594 1.28349316] have infinite distances: is the mesh watertight?\u001B[0m\n",
      "\u001B[32m2025-07-02 10:44:59.193\u001B[0m | \u001B[33m\u001B[1mWARNING \u001B[0m | \u001B[36maudiblelight.space\u001B[0m:\u001B[36mcalculate_weighted_average_ray_length\u001B[0m:\u001B[36m184\u001B[0m - \u001B[33m\u001B[1mSome rays cast from point [4.30813451 5.7503791  2.1498862 ] have infinite distances: is the mesh watertight?\u001B[0m\n",
      "\u001B[32m2025-07-02 10:45:04.743\u001B[0m | \u001B[33m\u001B[1mWARNING \u001B[0m | \u001B[36maudiblelight.space\u001B[0m:\u001B[36mcalculate_weighted_average_ray_length\u001B[0m:\u001B[36m184\u001B[0m - \u001B[33m\u001B[1mSome rays cast from point [ 1.78970067 -0.11182945  1.23915091] have infinite distances: is the mesh watertight?\u001B[0m\n",
      "\u001B[32m2025-07-02 10:45:05.856\u001B[0m | \u001B[33m\u001B[1mWARNING \u001B[0m | \u001B[36maudiblelight.space\u001B[0m:\u001B[36mcalculate_weighted_average_ray_length\u001B[0m:\u001B[36m184\u001B[0m - \u001B[33m\u001B[1mSome rays cast from point [0.55607321 2.86240747 1.95142732] have infinite distances: is the mesh watertight?\u001B[0m\n",
      "\u001B[32m2025-07-02 10:45:08.128\u001B[0m | \u001B[33m\u001B[1mWARNING \u001B[0m | \u001B[36maudiblelight.space\u001B[0m:\u001B[36mcalculate_weighted_average_ray_length\u001B[0m:\u001B[36m184\u001B[0m - \u001B[33m\u001B[1mSome rays cast from point [-0.27703445  1.36328864  1.90888108] have infinite distances: is the mesh watertight?\u001B[0m\n",
      "\u001B[32m2025-07-02 10:45:09.106\u001B[0m | \u001B[33m\u001B[1mWARNING \u001B[0m | \u001B[36maudiblelight.space\u001B[0m:\u001B[36mcalculate_weighted_average_ray_length\u001B[0m:\u001B[36m184\u001B[0m - \u001B[33m\u001B[1mSome rays cast from point [1.02589883 0.64706967 1.1941689 ] have infinite distances: is the mesh watertight?\u001B[0m\n",
      "\u001B[32m2025-07-02 10:45:17.939\u001B[0m | \u001B[33m\u001B[1mWARNING \u001B[0m | \u001B[36maudiblelight.space\u001B[0m:\u001B[36mcalculate_weighted_average_ray_length\u001B[0m:\u001B[36m184\u001B[0m - \u001B[33m\u001B[1mSome rays cast from point [-0.21120216 -0.47131969  0.49229428] have infinite distances: is the mesh watertight?\u001B[0m\n"
     ]
    }
   ],
   "source": [
    "# This places 20 sources and ensures that all have a direct line to our mic\n",
    "for space_idx, space in enumerate(spaces, 1):\n",
    "    logger.info(f\"Placing sources in space {space_idx}\")\n",
    "    space.add_sources(N_SOURCES, keep_existing=False, ensure_direct_line=True, mic_idx=0)\n",
    "    # Sanity checking\n",
    "    assert len(space.source_positions == N_SOURCES)\n",
    "    for source in space.source_positions:\n",
    "        assert space.direct_line_exists_between_points(source, space.microphones[0].coordinates_center)"
   ]
  },
  {
   "cell_type": "code",
   "id": "632e5d16-3cd2-4173-8077-e0944ba0ea3a",
   "metadata": {},
   "source": [
    "# Check the microphone and source positioning\n",
    "scn = spaces[1].create_scene(mic_radius=0.02)\n",
    "# The individual microphone capsules are shown as red spheres in the mesh\n",
    "scn.show()"
   ],
   "outputs": [],
   "execution_count": null
  },
  {
   "cell_type": "markdown",
   "id": "26ddf659-459f-43d2-b6fd-853daef61b35",
   "metadata": {},
   "source": [
    "## Run the simulations"
   ]
  },
  {
   "cell_type": "code",
   "execution_count": 20,
   "id": "15e6384c-8005-4c0f-91bd-5e93aa48f66d",
   "metadata": {},
   "outputs": [
    {
     "name": "stderr",
     "output_type": "stream",
     "text": [
      "\u001B[32m2025-07-02 10:49:46.035\u001B[0m | \u001B[1mINFO    \u001B[0m | \u001B[36m__main__\u001B[0m:\u001B[36m<module>\u001B[0m:\u001B[36m2\u001B[0m - \u001B[1mSimulating space 0\u001B[0m\n",
      "\u001B[32m2025-07-02 10:55:50.490\u001B[0m | \u001B[1mINFO    \u001B[0m | \u001B[36maudiblelight.space\u001B[0m:\u001B[36msimulate\u001B[0m:\u001B[36m678\u001B[0m - \u001B[1mFinished simulation! Overall indirect ray efficiency: 0.990\u001B[0m\n",
      "\u001B[32m2025-07-02 10:55:52.175\u001B[0m | \u001B[1mINFO    \u001B[0m | \u001B[36m__main__\u001B[0m:\u001B[36m<module>\u001B[0m:\u001B[36m2\u001B[0m - \u001B[1mSimulating space 1\u001B[0m\n",
      "\u001B[32m2025-07-02 10:58:37.829\u001B[0m | \u001B[1mINFO    \u001B[0m | \u001B[36maudiblelight.space\u001B[0m:\u001B[36msimulate\u001B[0m:\u001B[36m678\u001B[0m - \u001B[1mFinished simulation! Overall indirect ray efficiency: 0.933\u001B[0m\n",
      "\u001B[32m2025-07-02 10:58:39.261\u001B[0m | \u001B[1mINFO    \u001B[0m | \u001B[36m__main__\u001B[0m:\u001B[36m<module>\u001B[0m:\u001B[36m2\u001B[0m - \u001B[1mSimulating space 2\u001B[0m\n",
      "\u001B[32m2025-07-02 11:00:18.921\u001B[0m | \u001B[1mINFO    \u001B[0m | \u001B[36maudiblelight.space\u001B[0m:\u001B[36msimulate\u001B[0m:\u001B[36m678\u001B[0m - \u001B[1mFinished simulation! Overall indirect ray efficiency: 0.878\u001B[0m\n",
      "\u001B[32m2025-07-02 11:00:20.365\u001B[0m | \u001B[1mINFO    \u001B[0m | \u001B[36m__main__\u001B[0m:\u001B[36m<module>\u001B[0m:\u001B[36m2\u001B[0m - \u001B[1mSimulating space 3\u001B[0m\n",
      "\u001B[32m2025-07-02 11:04:41.619\u001B[0m | \u001B[1mINFO    \u001B[0m | \u001B[36maudiblelight.space\u001B[0m:\u001B[36msimulate\u001B[0m:\u001B[36m678\u001B[0m - \u001B[1mFinished simulation! Overall indirect ray efficiency: 0.985\u001B[0m\n",
      "\u001B[32m2025-07-02 11:04:43.559\u001B[0m | \u001B[1mINFO    \u001B[0m | \u001B[36m__main__\u001B[0m:\u001B[36m<module>\u001B[0m:\u001B[36m2\u001B[0m - \u001B[1mSimulating space 4\u001B[0m\n",
      "\u001B[32m2025-07-02 11:09:42.415\u001B[0m | \u001B[1mINFO    \u001B[0m | \u001B[36maudiblelight.space\u001B[0m:\u001B[36msimulate\u001B[0m:\u001B[36m678\u001B[0m - \u001B[1mFinished simulation! Overall indirect ray efficiency: 0.991\u001B[0m\n"
     ]
    }
   ],
   "source": [
    "for space_idx, space in enumerate(spaces):\n",
    "    logger.info(f\"Simulating space {space_idx}\")\n",
    "    space.simulate()"
   ]
  },
  {
   "cell_type": "markdown",
   "id": "d394039a-b7bb-4b01-81a8-60e5eed77942",
   "metadata": {},
   "source": [
    "## Save the IRs"
   ]
  },
  {
   "cell_type": "code",
   "execution_count": 62,
   "id": "a3e305f7-0fc0-46c2-accb-6eeee63b29df",
   "metadata": {},
   "outputs": [],
   "source": [
    "for space_idx, space in enumerate(spaces):\n",
    "    # Grab IRs\n",
    "    irs = space.microphones[0].irs\n",
    "    # Sanity checking\n",
    "    n_caps, n_sources, n_samples = irs.shape\n",
    "    assert n_caps == 32\n",
    "    assert n_sources == N_SOURCES\n",
    "    # Create the dictionary: keys are strings, values are arrays\n",
    "    fname = f\"room{str(space_idx).zfill(3)}.h5\"\n",
    "    data = dict(\n",
    "        # **space.mesh.metadata,\n",
    "        mic_center_position=space.microphones[0].coordinates_center,\n",
    "        mic_capsules_position=space.microphones[0].coordinates_absolute,\n",
    "        source_position=space.source_positions,\n",
    "        mesh_bounds=space.mesh.bounds,\n",
    "        irs=irs\n",
    "    )\n",
    "    # Dump the H5 file\n",
    "    with h5py.File(os.path.join(OUT_DIR, fname), 'w') as f:\n",
    "        for key, arr in data.items():\n",
    "            f.create_dataset(key, data=arr)"
   ]
  },
  {
   "cell_type": "markdown",
   "id": "c91137ef-d611-41fb-a62b-36ca5d4db8ab",
   "metadata": {},
   "source": [
    "## Sanity check loading H5 objects"
   ]
  },
  {
   "cell_type": "code",
   "execution_count": 63,
   "id": "9b996ed8-184b-4009-b78a-ebe7b6246b98",
   "metadata": {},
   "outputs": [],
   "source": [
    "# Loading the dictionary up\n",
    "loaded_dict = {}\n",
    "with h5py.File(os.path.join(OUT_DIR, \"room004.h5\"), 'r') as f:\n",
    "    for key in f.keys():\n",
    "        loaded_dict[key] = f[key][:]"
   ]
  },
  {
   "cell_type": "code",
   "execution_count": 64,
   "id": "c1925998-383a-42d8-bf27-794ed3f90a9e",
   "metadata": {},
   "outputs": [],
   "source": [
    "# Check that all arrays are equal to the initial dictionary\n",
    "for k in loaded_dict.keys():\n",
    "    assert np.array_equal(loaded_dict[k], data[k])"
   ]
  }
 ],
 "metadata": {
  "kernelspec": {
   "display_name": "Python 3 (ipykernel)",
   "language": "python",
   "name": "python3"
  },
  "language_info": {
   "codemirror_mode": {
    "name": "ipython",
    "version": 3
   },
   "file_extension": ".py",
   "mimetype": "text/x-python",
   "name": "python",
   "nbconvert_exporter": "python",
   "pygments_lexer": "ipython3",
   "version": "3.10.12"
  }
 },
 "nbformat": 4,
 "nbformat_minor": 5
}
