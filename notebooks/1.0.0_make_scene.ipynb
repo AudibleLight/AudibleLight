{
 "cells": [
  {
   "metadata": {},
   "cell_type": "markdown",
   "source": "# 1.0.0: Make a `Scene`!",
   "id": "703f697220473528"
  },
  {
   "metadata": {},
   "cell_type": "markdown",
   "source": [
    "## The `Scene` object\n",
    "\n",
    "The `Scene` object is the primary object we'll be dealing with when working with `AudibleLight`. Our `Scene` object is comparable to `scaper.core.Scaper` or `spatialscaper.core.Scaper`, but with numerous adjustments that make data generation more straightforward and scalable.\n",
    "\n",
    "A basic `Scene` object can be initialised as follows:"
   ],
   "id": "8dc7174a25baaec7"
  },
  {
   "metadata": {
    "ExecuteTime": {
     "end_time": "2025-10-07T14:12:18.569358Z",
     "start_time": "2025-10-07T14:12:12.137431Z"
    }
   },
   "cell_type": "code",
   "source": [
    "from audiblelight import utils\n",
    "from audiblelight.core import Scene"
   ],
   "id": "95c51e4231f8506f",
   "outputs": [],
   "execution_count": 2
  },
  {
   "metadata": {
    "ExecuteTime": {
     "end_time": "2025-10-07T14:12:19.901207Z",
     "start_time": "2025-10-07T14:12:19.608445Z"
    }
   },
   "cell_type": "code",
   "source": [
    "scene = Scene(\n",
    "    duration=60,\n",
    "    mesh_path=utils.get_project_root() / \"tests/test_resources/meshes/Oyens.glb\"\n",
    ")"
   ],
   "id": "f84f223c405131f1",
   "outputs": [
    {
     "name": "stdout",
     "output_type": "stream",
     "text": [
      "CreateContext: Context created\n"
     ]
    }
   ],
   "execution_count": 3
  },
  {
   "metadata": {},
   "cell_type": "markdown",
   "source": "`Scene.__init__` takes many optional arguments, which are described in more detail within the documentation.",
   "id": "ce9642b3f9da7d3d"
  },
  {
   "metadata": {},
   "cell_type": "markdown",
   "source": [
    "## Using distributions\n",
    "\n",
    "When a `Scene` is initialised, various distributions can be passed to allow for randomly sampling parameters such as event start times and durations.\n",
    "\n",
    "These durations must satisfy the following conditions:\n",
    "- Must be callable without arguments\n",
    "- OR define an `rvs` method that is callable without arguments\n",
    "- Must return a floating point value when called\n",
    "\n",
    "This means that (for example), we can use `scipy` distributions, custom functions, etc."
   ],
   "id": "968ec7aef97b1e0d"
  },
  {
   "metadata": {},
   "cell_type": "code",
   "outputs": [],
   "execution_count": null,
   "source": [
    "import numpy as np\n",
    "import scipy.stats as stats\n",
    "\n",
    "\n",
    "def truncated_gaussian():\n",
    "    return np.clip(np.random.normal(5., 1.), 4, 6)\n",
    "\n",
    "\n",
    "# All of these are valid distributions\n",
    "scene = Scene(\n",
    "    duration=60,\n",
    "    mesh_path=utils.get_project_root() / \"tests/test_resources/meshes/Oyens.glb\",\n",
    "    scene_start_dist=truncated_gaussian,\n",
    "    event_start_dist=lambda: np.random.uniform(0.0, 10.0),\n",
    "    event_velocity_dist=stats.uniform(10, 10)\n",
    ")"
   ],
   "id": "75040003042643c3"
  },
  {
   "metadata": {},
   "cell_type": "markdown",
   "source": [
    "When an `Event` is added with `Scene.add_event`, the following logic is used to decide whether the distributions passed to `Scene.__init__` should be sampled from:\n",
    "\n",
    "- If overrides are passed directly to `add_event`, these will **always** be used\n",
    "- If overrides are not passed but a valid distribution has been, this will be sampled\n",
    "- If neither overrides nor a distribution has been passed, the value will be sampled from a sensible default distribution."
   ],
   "id": "925e13c72cc218c6"
  },
  {
   "metadata": {},
   "cell_type": "markdown",
   "source": [
    "## Passing audio directories\n",
    "\n",
    "We can pass `fg_path` to `Scene.__init__`. This allows us to define a directory (or list of directories) containing foreground audio. When we add an event with `Scene.add_event` **without also specifying** `filepath=...`, we'll pull in from this directory."
   ],
   "id": "55f1949ffb0003e3"
  },
  {
   "metadata": {
    "ExecuteTime": {
     "end_time": "2025-10-07T14:23:37.531147Z",
     "start_time": "2025-10-07T14:23:33.605692Z"
    }
   },
   "cell_type": "code",
   "source": [
    "scene = Scene(\n",
    "    duration=60,\n",
    "    mesh_path=utils.get_project_root() / \"tests/test_resources/meshes/Oyens.glb\",\n",
    "    fg_path=utils.get_project_root() / \"tests/test_resources/soundevents/music\"\n",
    ")\n",
    "scene.add_event(event_type=\"static\", alias=\"will_be_music\")\n",
    "music_event = scene.get_event(\"will_be_music\")\n",
    "print(music_event.filepath)"
   ],
   "id": "157d52c36529211",
   "outputs": [
    {
     "name": "stdout",
     "output_type": "stream",
     "text": [
      "CreateContext: Context created\n"
     ]
    },
    {
     "name": "stderr",
     "output_type": "stream",
     "text": [
      "Warning: initializing context twice. Will destroy old context and create a new one.\n"
     ]
    },
    {
     "name": "stdout",
     "output_type": "stream",
     "text": [
      "CreateContext: Context created\n"
     ]
    },
    {
     "name": "stderr",
     "output_type": "stream",
     "text": [
      "\u001B[32m2025-10-07 15:23:37.526\u001B[0m | \u001B[1mINFO    \u001B[0m | \u001B[36maudiblelight.core\u001B[0m:\u001B[36madd_event\u001B[0m:\u001B[36m830\u001B[0m - \u001B[1mEvent added successfully: Static 'Event' with alias 'will_be_music', audio file '/home/huw-cheston/Documents/python_projects/AudibleLight/tests/test_resources/soundevents/music/007527.mp3' (unloaded, 0 augmentations), 1 emitter(s).\u001B[0m\n"
     ]
    },
    {
     "name": "stdout",
     "output_type": "stream",
     "text": [
      "/home/huw-cheston/Documents/python_projects/AudibleLight/tests/test_resources/soundevents/music/007527.mp3\n"
     ]
    }
   ],
   "execution_count": 6
  },
  {
   "metadata": {},
   "cell_type": "markdown",
   "source": "In this example, we pass in a directory containing music objects. When we add an `Event` to the `Scene`, we'll draw from this dictionary.",
   "id": "8392213dcf7566e5"
  },
  {
   "metadata": {},
   "cell_type": "markdown",
   "source": [
    "### Controlling duplicate audio files\n",
    "\n",
    "By default, we allow a single unique audio file to appear numerous times in a `Scene`. In practice, this is usually not a problem as we would expect `fg_dir` to contain many audio files, and therefore duplicates (especially overlapping duplicates) are in reality very rare.\n",
    "\n",
    "If this behaviour is undesirable, the argument `allow_duplicate_audios=False` can be passed when initialising a `Scene`:"
   ],
   "id": "7ecb52fd4e25f35d"
  },
  {
   "metadata": {
    "ExecuteTime": {
     "end_time": "2025-10-07T14:27:58.253495Z",
     "start_time": "2025-10-07T14:27:55.485338Z"
    }
   },
   "cell_type": "code",
   "source": [
    "no_dupes_allowed = Scene(\n",
    "    duration=60,\n",
    "    mesh_path=utils.get_project_root() / \"tests/test_resources/meshes/Oyens.glb\",\n",
    "    fg_path=utils.get_project_root() / \"tests/test_resources/soundevents/music\",\n",
    "    allow_duplicate_audios=False\n",
    ")\n",
    "\n",
    "# Add in some music files\n",
    "for _ in range(2):\n",
    "    no_dupes_allowed.add_event(event_type=\"static\")\n",
    "\n",
    "# Print the filepaths\n",
    "events = no_dupes_allowed.get_events()\n",
    "for ev in events:\n",
    "    print(ev.filename)"
   ],
   "id": "26d2dac7eb0ff70c",
   "outputs": [
    {
     "name": "stdout",
     "output_type": "stream",
     "text": [
      "CreateContext: Context created\n"
     ]
    },
    {
     "name": "stderr",
     "output_type": "stream",
     "text": [
      "Warning: initializing context twice. Will destroy old context and create a new one.\n",
      "\u001B[32m2025-10-07 15:27:57.924\u001B[0m | \u001B[1mINFO    \u001B[0m | \u001B[36maudiblelight.core\u001B[0m:\u001B[36madd_event\u001B[0m:\u001B[36m830\u001B[0m - \u001B[1mEvent added successfully: Static 'Event' with alias 'event000', audio file '/home/huw-cheston/Documents/python_projects/AudibleLight/tests/test_resources/soundevents/music/007527.mp3' (unloaded, 0 augmentations), 1 emitter(s).\u001B[0m\n"
     ]
    },
    {
     "name": "stdout",
     "output_type": "stream",
     "text": [
      "CreateContext: Context created\n"
     ]
    },
    {
     "name": "stderr",
     "output_type": "stream",
     "text": [
      "Warning: initializing context twice. Will destroy old context and create a new one.\n",
      "\u001B[32m2025-10-07 15:27:58.251\u001B[0m | \u001B[1mINFO    \u001B[0m | \u001B[36maudiblelight.core\u001B[0m:\u001B[36madd_event\u001B[0m:\u001B[36m830\u001B[0m - \u001B[1mEvent added successfully: Static 'Event' with alias 'event001', audio file '/home/huw-cheston/Documents/python_projects/AudibleLight/tests/test_resources/soundevents/music/001666.mp3' (unloaded, 0 augmentations), 1 emitter(s).\u001B[0m\n"
     ]
    },
    {
     "name": "stdout",
     "output_type": "stream",
     "text": [
      "CreateContext: Context created\n",
      "007527.mp3\n",
      "001666.mp3\n"
     ]
    }
   ],
   "execution_count": 10
  }
 ],
 "metadata": {
  "kernelspec": {
   "display_name": "Python 3",
   "language": "python",
   "name": "python3"
  },
  "language_info": {
   "codemirror_mode": {
    "name": "ipython",
    "version": 2
   },
   "file_extension": ".py",
   "mimetype": "text/x-python",
   "name": "python",
   "nbconvert_exporter": "python",
   "pygments_lexer": "ipython2",
   "version": "2.7.6"
  }
 },
 "nbformat": 4,
 "nbformat_minor": 5
}
