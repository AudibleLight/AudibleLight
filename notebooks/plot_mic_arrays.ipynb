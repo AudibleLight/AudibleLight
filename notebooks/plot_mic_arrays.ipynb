{
 "cells": [
  {
   "metadata": {},
   "cell_type": "markdown",
   "source": [
    "# Plotting microphone array coordinates\n",
    "This notebook attempts to visualise some of the microphone array coordinates given inside `audiblelight.arrays`"
   ],
   "id": "5146cede1b3da325"
  },
  {
   "metadata": {},
   "cell_type": "markdown",
   "source": "## Import dependencies",
   "id": "207ca96b94a82c2d"
  },
  {
   "cell_type": "code",
   "id": "initial_id",
   "metadata": {
    "collapsed": true,
    "ExecuteTime": {
     "end_time": "2025-06-17T10:52:34.748715Z",
     "start_time": "2025-06-17T10:52:34.543818Z"
    }
   },
   "source": [
    "import plotly.graph_objects as go\n",
    "import pandas as pd\n",
    "from plotly.subplots import make_subplots\n",
    "\n",
    "from audiblelight.micarrays import *"
   ],
   "outputs": [],
   "execution_count": 1
  },
  {
   "metadata": {},
   "cell_type": "markdown",
   "source": [
    "## Create arrays\n",
    "\n",
    "We just define a list of our `MicArray` classes"
   ],
   "id": "737806c99e555f84"
  },
  {
   "metadata": {
    "ExecuteTime": {
     "end_time": "2025-06-17T10:52:35.393984Z",
     "start_time": "2025-06-17T10:52:35.391647Z"
    }
   },
   "cell_type": "code",
   "source": [
    "arrays = [\n",
    "    AmbeoVR(),\n",
    "    Eigenmike32(),\n",
    "]"
   ],
   "id": "28cdf79f0f728be3",
   "outputs": [],
   "execution_count": 2
  },
  {
   "metadata": {},
   "cell_type": "markdown",
   "source": [
    "## Visualise arrays\n",
    "\n",
    "These arrays can each be visualised nicely in a 3D space using plotly"
   ],
   "id": "f19f25a67b721d7d"
  },
  {
   "metadata": {},
   "cell_type": "code",
   "outputs": [],
   "execution_count": null,
   "source": [
    "fig = make_subplots(\n",
    "    rows=1, \n",
    "    cols=2, \n",
    "    specs=[\n",
    "        [{\"type\": \"scene\"}, {\"type\": \"scene\"}],\n",
    "    ],\n",
    "    subplot_titles=[a.name for a in arrays]\n",
    ")\n",
    "fig.update_layout(\n",
    "    width=720,\n",
    "    height=500,\n",
    "    autosize=False,\n",
    "    margin=dict(\n",
    "        l=10,\n",
    "        r=10,\n",
    "        b=10,\n",
    "        t=10,\n",
    "    ),\n",
    ")\n",
    "pass # called so we don't immediately show the plot"
   ],
   "id": "f861abacdca43fda"
  },
  {
   "metadata": {},
   "cell_type": "code",
   "outputs": [],
   "execution_count": null,
   "source": [
    "for (mic_x, mic_y), mic_array in zip([(1, 1), (1, 2)], arrays):\n",
    "    df = pd.DataFrame(mic_array.coordinates_cartesian, columns=[\"x\", \"y\", \"z\"])\n",
    "    fig.add_trace(\n",
    "        go.Scatter3d(\n",
    "            x=df[\"x\"],\n",
    "            y=df[\"y\"],\n",
    "            z=df[\"z\"],\n",
    "            mode=\"markers\",\n",
    "            name=mic_array.name,\n",
    "            marker_size=5,\n",
    "            hovertext=mic_array.capsule_names\n",
    "        ),\n",
    "        row=mic_x,\n",
    "        col=mic_y\n",
    "    )"
   ],
   "id": "11458ab3f1a3a938"
  },
  {
   "metadata": {},
   "cell_type": "code",
   "outputs": [],
   "execution_count": null,
   "source": "fig.show()",
   "id": "e8f179c07151c8ae"
  }
 ],
 "metadata": {
  "kernelspec": {
   "display_name": "Python 3",
   "language": "python",
   "name": "python3"
  },
  "language_info": {
   "codemirror_mode": {
    "name": "ipython",
    "version": 2
   },
   "file_extension": ".py",
   "mimetype": "text/x-python",
   "name": "python",
   "nbconvert_exporter": "python",
   "pygments_lexer": "ipython2",
   "version": "2.7.6"
  }
 },
 "nbformat": 4,
 "nbformat_minor": 5
}
