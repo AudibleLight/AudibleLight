{
 "cells": [
  {
   "cell_type": "markdown",
   "id": "703f697220473528",
   "metadata": {},
   "source": [
    "# 1.2.0: Add `Event`s\n",
    "\n",
    "In `AudibleLight`, `Event` objects represent sounds placed within a `Scene`. There are two types of `Event` objects:\n",
    "- Static `Event`s, which occupy the same point in space;\n",
    "- Moving `Event`s, which move through space according to a particular trajectory (e.g., linear, random...)\n",
    "\n",
    "`AudibleLight` defines a comprehensive API for adding `Event` objects to a `Scene`, as well as controlling parameters relating to the underlying audio file (e.g., duration, offset, any augmentations), how it moves through space (e.g., its velocity and resolution), and how it relates to the whole `Scene` (e.g., how loud it is versus the noise floor).\n",
    "\n",
    "Note that the `Augmentation` API for `AudibleLight` has its own tutorial."
   ]
  },
  {
   "cell_type": "markdown",
   "id": "a9c5aa81fe382cea",
   "metadata": {},
   "source": [
    "## Adding static `Event` objects"
   ]
  },
  {
   "cell_type": "code",
   "execution_count": 1,
   "id": "d1bdf6a6927b5d68",
   "metadata": {
    "ExecuteTime": {
     "end_time": "2025-10-07T15:33:45.203820Z",
     "start_time": "2025-10-07T15:33:39.238954Z"
    }
   },
   "outputs": [],
   "source": [
    "from audiblelight.core import Scene\n",
    "from audiblelight import utils"
   ]
  },
  {
   "cell_type": "code",
   "execution_count": 2,
   "id": "ebcbf0ee9858c556",
   "metadata": {
    "ExecuteTime": {
     "end_time": "2025-10-07T15:33:47.453892Z",
     "start_time": "2025-10-07T15:33:45.212054Z"
    }
   },
   "outputs": [
    {
     "name": "stdout",
     "output_type": "stream",
     "text": [
      "CreateContext: Context created\n",
      "CreateContext: Context created\n"
     ]
    },
    {
     "name": "stderr",
     "output_type": "stream",
     "text": [
      "Warning: initializing context twice. Will destroy old context and create a new one.\n"
     ]
    }
   ],
   "source": [
    "scene = Scene(\n",
    "    duration=60,\n",
    "    mesh_path=utils.get_project_root() / \"tests/test_resources/meshes/Oyens.glb\",\n",
    "    fg_path=utils.get_project_root() / \"tests/test_resources/soundevents\",\n",
    ")\n",
    "scene.add_microphone(microphone_type=\"ambeovr\")"
   ]
  },
  {
   "cell_type": "markdown",
   "id": "f3b4133d5b667bfb",
   "metadata": {},
   "source": [
    "We are now ready to add an `Event` to our scene. By default, this will start from between 0 and 59 seconds (i.e., `scene.duration` - 1), with an audio file pulled from our `fg_path`."
   ]
  },
  {
   "cell_type": "code",
   "execution_count": 3,
   "id": "6c376e1ea155606b",
   "metadata": {
    "ExecuteTime": {
     "end_time": "2025-10-07T15:33:48.708795Z",
     "start_time": "2025-10-07T15:33:47.614199Z"
    }
   },
   "outputs": [
    {
     "name": "stderr",
     "output_type": "stream",
     "text": [
      "Warning: initializing context twice. Will destroy old context and create a new one.\n"
     ]
    },
    {
     "name": "stdout",
     "output_type": "stream",
     "text": [
      "CreateContext: Context created\n"
     ]
    },
    {
     "name": "stderr",
     "output_type": "stream",
     "text": [
      "\u001b[32m2025-10-07 16:33:48.707\u001b[0m | \u001b[1mINFO    \u001b[0m | \u001b[36maudiblelight.core\u001b[0m:\u001b[36madd_event\u001b[0m:\u001b[36m835\u001b[0m - \u001b[1mEvent added successfully: Static 'Event' with alias 'my_first_event', audio file '/home/huw-cheston/Documents/python_projects/AudibleLight/tests/test_resources/soundevents/musicInstrument/3471.wav' (unloaded, 0 augmentations), 1 emitter(s).\u001b[0m\n"
     ]
    }
   ],
   "source": [
    "added = scene.add_event(event_type=\"static\", alias=\"my_first_event\")"
   ]
  },
  {
   "cell_type": "markdown",
   "id": "684ffac4355bd86f",
   "metadata": {},
   "source": [
    "Note that the same functionality could be achieved by calling `Scene.add_event_static` with the same arguments (minus `event_type=\"static\"`)."
   ]
  },
  {
   "cell_type": "markdown",
   "id": "54a2a6638a8fd92d",
   "metadata": {},
   "source": [
    "### Using overrides\n",
    "\n",
    "To control more parameters of the `Event`, we can pass in arguments to `add_event`. These arguments will **override** any distributions passed to `Scene.__init__`, allowing for more finegrained placing of events."
   ]
  },
  {
   "cell_type": "code",
   "execution_count": 4,
   "id": "6387f5211e7949a4",
   "metadata": {
    "ExecuteTime": {
     "end_time": "2025-10-07T15:33:48.991718Z",
     "start_time": "2025-10-07T15:33:48.759959Z"
    }
   },
   "outputs": [
    {
     "name": "stderr",
     "output_type": "stream",
     "text": [
      "Warning: initializing context twice. Will destroy old context and create a new one.\n"
     ]
    },
    {
     "name": "stdout",
     "output_type": "stream",
     "text": [
      "CreateContext: Context created\n"
     ]
    },
    {
     "name": "stderr",
     "output_type": "stream",
     "text": [
      "\u001b[32m2025-10-07 16:33:48.990\u001b[0m | \u001b[1mINFO    \u001b[0m | \u001b[36maudiblelight.core\u001b[0m:\u001b[36madd_event\u001b[0m:\u001b[36m835\u001b[0m - \u001b[1mEvent added successfully: Static 'Event' with alias 'my_second_event', audio file '/home/huw-cheston/Documents/python_projects/AudibleLight/tests/test_resources/soundevents/music/000010.mp3' (unloaded, 0 augmentations), 1 emitter(s).\u001b[0m\n"
     ]
    }
   ],
   "source": [
    "added2 = scene.add_event(\n",
    "    event_type=\"static\",\n",
    "    alias=\"my_second_event\",\n",
    "    filepath=utils.get_project_root() / \"tests/test_resources/soundevents/music/000010.mp3\",\n",
    "    duration=10,\n",
    "    scene_start=5.0,\n",
    "    event_start=2.0,\n",
    "    polar=True,\n",
    "    position=[-45., 0., 0.5]\n",
    ")"
   ]
  },
  {
   "cell_type": "markdown",
   "id": "fe8ad5b0967eed9d",
   "metadata": {},
   "source": [
    "This example loads in a music file with an offset at 2 seconds and a duration of 10 seconds (i.e., seconds 2 -- 12 will be used). The audio file will start 5 seconds in to the start of the scene. It will be placed 45 degrees to the front-left of the mic, level with the mic, and 0.5 meters away."
   ]
  },
  {
   "cell_type": "markdown",
   "id": "78f4daf8290685ba",
   "metadata": {},
   "source": [
    "Note that, when dealing with multiple microphones added to a single `Scene`, as well as passing `polar=True`, we also need to pass the alias of the microphone to `mic=...`, so the correct offset can be calculated."
   ]
  },
  {
   "cell_type": "code",
   "execution_count": 5,
   "id": "926f0846e5647fd0",
   "metadata": {
    "ExecuteTime": {
     "end_time": "2025-10-07T15:33:50.121735Z",
     "start_time": "2025-10-07T15:33:48.998014Z"
    }
   },
   "outputs": [
    {
     "name": "stderr",
     "output_type": "stream",
     "text": [
      "Warning: initializing context twice. Will destroy old context and create a new one.\n"
     ]
    },
    {
     "name": "stdout",
     "output_type": "stream",
     "text": [
      "CreateContext: Context created\n"
     ]
    },
    {
     "name": "stderr",
     "output_type": "stream",
     "text": [
      "Warning: initializing context twice. Will destroy old context and create a new one.\n"
     ]
    },
    {
     "name": "stdout",
     "output_type": "stream",
     "text": [
      "CreateContext: Context created\n",
      "CreateContext: Context created\n"
     ]
    },
    {
     "name": "stderr",
     "output_type": "stream",
     "text": [
      "Warning: initializing context twice. Will destroy old context and create a new one.\n",
      "Warning: initializing context twice. Will destroy old context and create a new one.\n",
      "\u001b[32m2025-10-07 16:33:50.119\u001b[0m | \u001b[1mINFO    \u001b[0m | \u001b[36maudiblelight.core\u001b[0m:\u001b[36madd_event\u001b[0m:\u001b[36m835\u001b[0m - \u001b[1mEvent added successfully: Static 'Event' with alias 'pol', audio file '/home/huw-cheston/Documents/python_projects/AudibleLight/tests/test_resources/soundevents/waterTap/95709.wav' (unloaded, 0 augmentations), 1 emitter(s).\u001b[0m\n"
     ]
    },
    {
     "name": "stdout",
     "output_type": "stream",
     "text": [
      "CreateContext: Context created\n"
     ]
    }
   ],
   "source": [
    "scene.clear_microphones()\n",
    "mic1 = scene.add_microphone(microphone_type=\"monocapsule\", alias=\"mic_a\")\n",
    "mic2 = scene.add_microphone(microphone_type=\"monocapsule\", alias=\"mic_b\")\n",
    "\n",
    "pol = scene.add_event(\n",
    "    event_type=\"static\",\n",
    "    polar=True,\n",
    "    mic=\"mic_a\",\n",
    "    alias=\"pol\",\n",
    "    position=[-45., 0., 0.5]\n",
    ")"
   ]
  },
  {
   "cell_type": "markdown",
   "id": "761903e476aa5eb",
   "metadata": {},
   "source": [
    "Now, the `pol` `Event` is placed so that it is -45 degrees from the `mic_a` `MicArray`."
   ]
  },
  {
   "cell_type": "code",
   "execution_count": 6,
   "id": "89eedae872c4cb2",
   "metadata": {
    "ExecuteTime": {
     "end_time": "2025-10-07T15:33:50.383163Z",
     "start_time": "2025-10-07T15:33:50.171609Z"
    }
   },
   "outputs": [
    {
     "name": "stdout",
     "output_type": "stream",
     "text": [
      "CreateContext: Context created\n"
     ]
    },
    {
     "name": "stderr",
     "output_type": "stream",
     "text": [
      "Warning: initializing context twice. Will destroy old context and create a new one.\n"
     ]
    }
   ],
   "source": [
    "scene.clear_microphone(\"mic_b\")"
   ]
  },
  {
   "cell_type": "markdown",
   "id": "a77cfb016ba0f76f",
   "metadata": {},
   "source": [
    "### Inspecting `Event` objects"
   ]
  },
  {
   "cell_type": "markdown",
   "id": "c14518c1c3cd9e8d",
   "metadata": {},
   "source": [
    "For more information on the `Event`, we can use its alias to grab it from the `Scene`"
   ]
  },
  {
   "cell_type": "code",
   "execution_count": 7,
   "id": "9c88da193845996a",
   "metadata": {
    "ExecuteTime": {
     "end_time": "2025-10-07T15:33:50.395184Z",
     "start_time": "2025-10-07T15:33:50.390895Z"
    }
   },
   "outputs": [
    {
     "name": "stdout",
     "output_type": "stream",
     "text": [
      "Static 'Event' with alias 'pol', audio file '/home/huw-cheston/Documents/python_projects/AudibleLight/tests/test_resources/soundevents/waterTap/95709.wav' (unloaded, 0 augmentations), 1 emitter(s).\n"
     ]
    }
   ],
   "source": [
    "event2 = scene.get_event(\"pol\")\n",
    "print(event2)"
   ]
  },
  {
   "cell_type": "markdown",
   "id": "9f9164f05851413e",
   "metadata": {},
   "source": [
    "We can also load the audio file with `Event.load_audio`.\n",
    "\n",
    "Note that this will happen automatically whenever `scene.generate` is called, so you don't need to worry about making this part of your data generation code."
   ]
  },
  {
   "cell_type": "code",
   "execution_count": 8,
   "id": "8fe5e426275ac038",
   "metadata": {
    "ExecuteTime": {
     "end_time": "2025-10-07T15:33:50.828617Z",
     "start_time": "2025-10-07T15:33:50.439910Z"
    }
   },
   "outputs": [
    {
     "name": "stdout",
     "output_type": "stream",
     "text": [
      "True\n"
     ]
    }
   ],
   "source": [
    "audio = event2.load_audio(ignore_cache=True, normalize=True)\n",
    "print(event2.is_audio_loaded)"
   ]
  },
  {
   "cell_type": "markdown",
   "id": "deef20dc8f767747",
   "metadata": {},
   "source": [
    "### Adding moving events\n",
    "\n",
    "Simple moving `Event`s can be added in the same way as simple static `Event`s."
   ]
  },
  {
   "cell_type": "code",
   "execution_count": 9,
   "id": "484d532959405ff",
   "metadata": {
    "ExecuteTime": {
     "end_time": "2025-10-07T15:33:55.650601Z",
     "start_time": "2025-10-07T15:33:50.856187Z"
    }
   },
   "outputs": [
    {
     "name": "stdout",
     "output_type": "stream",
     "text": [
      "CreateContext: Context created\n"
     ]
    },
    {
     "name": "stderr",
     "output_type": "stream",
     "text": [
      "Warning: initializing context twice. Will destroy old context and create a new one.\n",
      "Warning: initializing context twice. Will destroy old context and create a new one.\n",
      "\u001b[32m2025-10-07 16:33:55.648\u001b[0m | \u001b[1mINFO    \u001b[0m | \u001b[36maudiblelight.core\u001b[0m:\u001b[36madd_event\u001b[0m:\u001b[36m835\u001b[0m - \u001b[1mEvent added successfully: Moving 'Event' with alias 'my_first_moving_event', audio file '/home/huw-cheston/Documents/python_projects/AudibleLight/tests/test_resources/soundevents/laughter/16204.wav' (unloaded, 0 augmentations), 3 emitter(s).\u001b[0m\n"
     ]
    },
    {
     "name": "stdout",
     "output_type": "stream",
     "text": [
      "CreateContext: Context created\n"
     ]
    }
   ],
   "source": [
    "scene.clear_events()\n",
    "moving1 = scene.add_event(event_type=\"moving\", alias=\"my_first_moving_event\")"
   ]
  },
  {
   "cell_type": "markdown",
   "id": "a576feaf237079b6",
   "metadata": {},
   "source": [
    "Moving `Event`s expose the same parameters involved when creating a static `Event` (e.g., duration, offset), along with some new ones.\n",
    "\n",
    "In particular, we can control:\n",
    "- the spatial velocity: how fast the event moves, in metres-per-second\n",
    "- the spatial resolution: how many IRs are created per second, in Hz\n",
    "- the trajectory: either `linear`, `circular`, or `random`\n",
    "- the starting position of the event."
   ]
  },
  {
   "cell_type": "code",
   "execution_count": 10,
   "id": "2bdf8c2428378698",
   "metadata": {
    "ExecuteTime": {
     "end_time": "2025-10-07T15:34:15.560967Z",
     "start_time": "2025-10-07T15:33:55.712892Z"
    }
   },
   "outputs": [
    {
     "name": "stderr",
     "output_type": "stream",
     "text": [
      "Warning: initializing context twice. Will destroy old context and create a new one.\n",
      "\u001b[32m2025-10-07 16:34:15.558\u001b[0m | \u001b[1mINFO    \u001b[0m | \u001b[36maudiblelight.core\u001b[0m:\u001b[36madd_event\u001b[0m:\u001b[36m835\u001b[0m - \u001b[1mEvent added successfully: Moving 'Event' with alias 'my_second_moving_event', audio file '/home/huw-cheston/Documents/python_projects/AudibleLight/tests/test_resources/soundevents/waterTap/95709.wav' (unloaded, 0 augmentations), 4 emitter(s).\u001b[0m\n"
     ]
    },
    {
     "name": "stdout",
     "output_type": "stream",
     "text": [
      "CreateContext: Context created\n"
     ]
    }
   ],
   "source": [
    "added2 = scene.add_event(\n",
    "    event_type=\"moving\",\n",
    "    alias=\"my_second_moving_event\",\n",
    "    spatial_velocity=1.,\n",
    "    spatial_resolution=0.5,\n",
    "    shape=\"linear\",\n",
    ")"
   ]
  },
  {
   "cell_type": "markdown",
   "id": "d9687b203b703a21",
   "metadata": {},
   "source": [
    "### A note on class labels\n",
    "\n",
    "By default, `Event` objects will try and define a `class_id` and `class_label` attribute using the 13 classes of the [DCASE challenge.](https://dcase.community/challenge2024/task-audio-and-audiovisual-sound-event-localization-and-detection-with-source-distance-estimation)\n",
    "\n",
    "`AudibleLight` will attempt to extract these attributes from the filepath of the audio file if they are not passed when creating an `Event`. Alternatively, if only one parameter is passed (e.g., just `class_label`), the missing attribute will be inferred from this using the DCASE classes.\n",
    "\n",
    "Of course, these IDs and labels can also be overridden:"
   ]
  },
  {
   "cell_type": "code",
   "execution_count": 11,
   "id": "7456152e445c12ab",
   "metadata": {
    "ExecuteTime": {
     "end_time": "2025-10-07T15:34:16.019056Z",
     "start_time": "2025-10-07T15:34:15.679233Z"
    }
   },
   "outputs": [
    {
     "name": "stderr",
     "output_type": "stream",
     "text": [
      "Warning: initializing context twice. Will destroy old context and create a new one.\n",
      "\u001b[32m2025-10-07 16:34:16.016\u001b[0m | \u001b[1mINFO    \u001b[0m | \u001b[36maudiblelight.core\u001b[0m:\u001b[36madd_event\u001b[0m:\u001b[36m835\u001b[0m - \u001b[1mEvent added successfully: Static 'Event' with alias 'my_custom_event', audio file '/home/huw-cheston/Documents/python_projects/AudibleLight/tests/test_resources/soundevents/telephone/30085.wav' (unloaded, 0 augmentations), 1 emitter(s).\u001b[0m\n"
     ]
    },
    {
     "name": "stdout",
     "output_type": "stream",
     "text": [
      "CreateContext: Context created\n",
      "customClass 100\n"
     ]
    }
   ],
   "source": [
    "added = scene.add_event(event_type=\"static\", alias=\"my_custom_event\", class_id=100, class_label=\"customClass\")\n",
    "print(added.class_label, added.class_id)"
   ]
  },
  {
   "cell_type": "markdown",
   "id": "de4f7e410edf1976",
   "metadata": {},
   "source": [
    "and any metadata generated from the scene (e.g., `generate_dcase2024_metadata`) will adhere to the custom IDs."
   ]
  }
 ],
 "metadata": {
  "kernelspec": {
   "display_name": "Python 3",
   "language": "python",
   "name": "python3"
  },
  "language_info": {
   "codemirror_mode": {
    "name": "ipython",
    "version": 2
   },
   "file_extension": ".py",
   "mimetype": "text/x-python",
   "name": "python",
   "nbconvert_exporter": "python",
   "pygments_lexer": "ipython2",
   "version": "2.7.6"
  }
 },
 "nbformat": 4,
 "nbformat_minor": 5
}
